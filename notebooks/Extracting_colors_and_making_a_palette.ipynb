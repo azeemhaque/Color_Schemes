{
  "nbformat": 4,
  "nbformat_minor": 0,
  "metadata": {
    "colab": {
      "provenance": []
    },
    "kernelspec": {
      "name": "python3",
      "display_name": "Python 3"
    },
    "language_info": {
      "name": "python"
    }
  },
  "cells": [
    {
      "cell_type": "markdown",
      "source": [
        "## Extracting colors from an image"
      ],
      "metadata": {
        "id": "OPtjBUZNylNU"
      }
    },
    {
      "cell_type": "code",
      "source": [
        "from google.colab import files\n",
        "uploaded_files = files.upload()"
      ],
      "metadata": {
        "colab": {
          "base_uri": "https://localhost:8080/",
          "height": 73
        },
        "id": "dJrQkPX1Mhbj",
        "outputId": "b6b4cfe9-2366-4fe2-efca-a019d559a10d"
      },
      "execution_count": null,
      "outputs": [
        {
          "output_type": "display_data",
          "data": {
            "text/plain": [
              "<IPython.core.display.HTML object>"
            ],
            "text/html": [
              "\n",
              "     <input type=\"file\" id=\"files-73d71e49-27fe-449d-a848-e424489edb1d\" name=\"files[]\" multiple disabled\n",
              "        style=\"border:none\" />\n",
              "     <output id=\"result-73d71e49-27fe-449d-a848-e424489edb1d\">\n",
              "      Upload widget is only available when the cell has been executed in the\n",
              "      current browser session. Please rerun this cell to enable.\n",
              "      </output>\n",
              "      <script>// Copyright 2017 Google LLC\n",
              "//\n",
              "// Licensed under the Apache License, Version 2.0 (the \"License\");\n",
              "// you may not use this file except in compliance with the License.\n",
              "// You may obtain a copy of the License at\n",
              "//\n",
              "//      http://www.apache.org/licenses/LICENSE-2.0\n",
              "//\n",
              "// Unless required by applicable law or agreed to in writing, software\n",
              "// distributed under the License is distributed on an \"AS IS\" BASIS,\n",
              "// WITHOUT WARRANTIES OR CONDITIONS OF ANY KIND, either express or implied.\n",
              "// See the License for the specific language governing permissions and\n",
              "// limitations under the License.\n",
              "\n",
              "/**\n",
              " * @fileoverview Helpers for google.colab Python module.\n",
              " */\n",
              "(function(scope) {\n",
              "function span(text, styleAttributes = {}) {\n",
              "  const element = document.createElement('span');\n",
              "  element.textContent = text;\n",
              "  for (const key of Object.keys(styleAttributes)) {\n",
              "    element.style[key] = styleAttributes[key];\n",
              "  }\n",
              "  return element;\n",
              "}\n",
              "\n",
              "// Max number of bytes which will be uploaded at a time.\n",
              "const MAX_PAYLOAD_SIZE = 100 * 1024;\n",
              "\n",
              "function _uploadFiles(inputId, outputId) {\n",
              "  const steps = uploadFilesStep(inputId, outputId);\n",
              "  const outputElement = document.getElementById(outputId);\n",
              "  // Cache steps on the outputElement to make it available for the next call\n",
              "  // to uploadFilesContinue from Python.\n",
              "  outputElement.steps = steps;\n",
              "\n",
              "  return _uploadFilesContinue(outputId);\n",
              "}\n",
              "\n",
              "// This is roughly an async generator (not supported in the browser yet),\n",
              "// where there are multiple asynchronous steps and the Python side is going\n",
              "// to poll for completion of each step.\n",
              "// This uses a Promise to block the python side on completion of each step,\n",
              "// then passes the result of the previous step as the input to the next step.\n",
              "function _uploadFilesContinue(outputId) {\n",
              "  const outputElement = document.getElementById(outputId);\n",
              "  const steps = outputElement.steps;\n",
              "\n",
              "  const next = steps.next(outputElement.lastPromiseValue);\n",
              "  return Promise.resolve(next.value.promise).then((value) => {\n",
              "    // Cache the last promise value to make it available to the next\n",
              "    // step of the generator.\n",
              "    outputElement.lastPromiseValue = value;\n",
              "    return next.value.response;\n",
              "  });\n",
              "}\n",
              "\n",
              "/**\n",
              " * Generator function which is called between each async step of the upload\n",
              " * process.\n",
              " * @param {string} inputId Element ID of the input file picker element.\n",
              " * @param {string} outputId Element ID of the output display.\n",
              " * @return {!Iterable<!Object>} Iterable of next steps.\n",
              " */\n",
              "function* uploadFilesStep(inputId, outputId) {\n",
              "  const inputElement = document.getElementById(inputId);\n",
              "  inputElement.disabled = false;\n",
              "\n",
              "  const outputElement = document.getElementById(outputId);\n",
              "  outputElement.innerHTML = '';\n",
              "\n",
              "  const pickedPromise = new Promise((resolve) => {\n",
              "    inputElement.addEventListener('change', (e) => {\n",
              "      resolve(e.target.files);\n",
              "    });\n",
              "  });\n",
              "\n",
              "  const cancel = document.createElement('button');\n",
              "  inputElement.parentElement.appendChild(cancel);\n",
              "  cancel.textContent = 'Cancel upload';\n",
              "  const cancelPromise = new Promise((resolve) => {\n",
              "    cancel.onclick = () => {\n",
              "      resolve(null);\n",
              "    };\n",
              "  });\n",
              "\n",
              "  // Wait for the user to pick the files.\n",
              "  const files = yield {\n",
              "    promise: Promise.race([pickedPromise, cancelPromise]),\n",
              "    response: {\n",
              "      action: 'starting',\n",
              "    }\n",
              "  };\n",
              "\n",
              "  cancel.remove();\n",
              "\n",
              "  // Disable the input element since further picks are not allowed.\n",
              "  inputElement.disabled = true;\n",
              "\n",
              "  if (!files) {\n",
              "    return {\n",
              "      response: {\n",
              "        action: 'complete',\n",
              "      }\n",
              "    };\n",
              "  }\n",
              "\n",
              "  for (const file of files) {\n",
              "    const li = document.createElement('li');\n",
              "    li.append(span(file.name, {fontWeight: 'bold'}));\n",
              "    li.append(span(\n",
              "        `(${file.type || 'n/a'}) - ${file.size} bytes, ` +\n",
              "        `last modified: ${\n",
              "            file.lastModifiedDate ? file.lastModifiedDate.toLocaleDateString() :\n",
              "                                    'n/a'} - `));\n",
              "    const percent = span('0% done');\n",
              "    li.appendChild(percent);\n",
              "\n",
              "    outputElement.appendChild(li);\n",
              "\n",
              "    const fileDataPromise = new Promise((resolve) => {\n",
              "      const reader = new FileReader();\n",
              "      reader.onload = (e) => {\n",
              "        resolve(e.target.result);\n",
              "      };\n",
              "      reader.readAsArrayBuffer(file);\n",
              "    });\n",
              "    // Wait for the data to be ready.\n",
              "    let fileData = yield {\n",
              "      promise: fileDataPromise,\n",
              "      response: {\n",
              "        action: 'continue',\n",
              "      }\n",
              "    };\n",
              "\n",
              "    // Use a chunked sending to avoid message size limits. See b/62115660.\n",
              "    let position = 0;\n",
              "    do {\n",
              "      const length = Math.min(fileData.byteLength - position, MAX_PAYLOAD_SIZE);\n",
              "      const chunk = new Uint8Array(fileData, position, length);\n",
              "      position += length;\n",
              "\n",
              "      const base64 = btoa(String.fromCharCode.apply(null, chunk));\n",
              "      yield {\n",
              "        response: {\n",
              "          action: 'append',\n",
              "          file: file.name,\n",
              "          data: base64,\n",
              "        },\n",
              "      };\n",
              "\n",
              "      let percentDone = fileData.byteLength === 0 ?\n",
              "          100 :\n",
              "          Math.round((position / fileData.byteLength) * 100);\n",
              "      percent.textContent = `${percentDone}% done`;\n",
              "\n",
              "    } while (position < fileData.byteLength);\n",
              "  }\n",
              "\n",
              "  // All done.\n",
              "  yield {\n",
              "    response: {\n",
              "      action: 'complete',\n",
              "    }\n",
              "  };\n",
              "}\n",
              "\n",
              "scope.google = scope.google || {};\n",
              "scope.google.colab = scope.google.colab || {};\n",
              "scope.google.colab._files = {\n",
              "  _uploadFiles,\n",
              "  _uploadFilesContinue,\n",
              "};\n",
              "})(self);\n",
              "</script> "
            ]
          },
          "metadata": {}
        },
        {
          "output_type": "stream",
          "name": "stdout",
          "text": [
            "Saving sample-3.jpg to sample-3.jpg\n"
          ]
        }
      ]
    },
    {
      "cell_type": "code",
      "execution_count": null,
      "metadata": {
        "colab": {
          "base_uri": "https://localhost:8080/",
          "height": 597
        },
        "id": "agzLoraiI3v4",
        "outputId": "ac61ae07-5b86-4338-d941-b9002974f0e8"
      },
      "outputs": [
        {
          "output_type": "stream",
          "name": "stdout",
          "text": [
            "Original Dimensions (Height,Width,Colors): (540, 960, 3)\n",
            "Resized Dimensions (Height,Width,Colors): (56, 100, 3)\n"
          ]
        },
        {
          "output_type": "display_data",
          "data": {
            "text/html": [
              "<html>\n",
              "<head><meta charset=\"utf-8\" /></head>\n",
              "<body>\n",
              "    <div>            <script src=\"https://cdnjs.cloudflare.com/ajax/libs/mathjax/2.7.5/MathJax.js?config=TeX-AMS-MML_SVG\"></script><script type=\"text/javascript\">if (window.MathJax && window.MathJax.Hub && window.MathJax.Hub.Config) {window.MathJax.Hub.Config({SVG: {font: \"STIX-Web\"}});}</script>                <script type=\"text/javascript\">window.PlotlyConfig = {MathJaxConfig: 'local'};</script>\n",
              "        <script charset=\"utf-8\" src=\"https://cdn.plot.ly/plotly-2.24.1.min.js\"></script>                <div id=\"0d970d8f-7db2-40dc-bb44-f15dad76d84f\" class=\"plotly-graph-div\" style=\"height:525px; width:100%;\"></div>            <script type=\"text/javascript\">                                    window.PLOTLYENV=window.PLOTLYENV || {};                                    if (document.getElementById(\"0d970d8f-7db2-40dc-bb44-f15dad76d84f\")) {                    Plotly.newPlot(                        \"0d970d8f-7db2-40dc-bb44-f15dad76d84f\",                        [{\"name\":\"0\",\"source\":\"data:image\\u002fpng;base64,iVBORw0KGgoAAAANSUhEUgAAAGQAAAA4CAIAAACEzMqPAAAx7ElEQVR4XjW72Y\\u002fu6XHfV\\u002fVsv\\u002fXd3+63u093nz7rnHNmDjmcGXIokqKoBbIEyTG8KIrlIEgMw0ggOEhykZtc5j8IkCA3QXwRBEIcxXJsiZJl0qTI4QyHM8M5s529z+m9++13\\u002f+3PVrkYp+7qrvBBoYCqb31x7f56d3vkvKuXeWdD9G9V6Rpy1TBudC31BRSXTfVSlZeaC8kkH15N81y3+vHivF5eZFtv90Gxkx9P1t\\u002foabBe2+UjCPuYXlVJyqcX+uIDGN3HtT2Rz0w5s+WJULEuLz05AgRA4IxbY4kIEa21YSQ6fYaSACgQgWmwO1CLidu+JuZTh6DCiNKW4gIbXQVB8PDB\\u002fGR\\u002f2eqEnaEcbGPa9bOJef65Zhy9I0Dw3iMiY8w5J4RwzgEAABCRUkoqChNs98PGYMTZ8ZOac2mMkVJZY+raJ6nyDpABIrEsyyan5zavvPeLswoabzMGNfdaKOVxAEAyWCOHVkS+vZloYLs3hgioBHV34\\u002fnD1elPzxW44uFMzQ1nvKndwYfZy3+7LOfMlQkhhpFazBuL3guMIlXOGQskIQSx6GwIETBE5JwDkFKCgOrKqxDjhM0meZwyZ4hYtVrqqjBpS3z60fT4ZXN+UkaxmJxXcSRbXXXzVdXp89nYzS9kXbq0Bb2BBGBEyBhHRCIiQqMdY4y+TBCJqC7dcsKPntfFyp4eE6Ko60YI0TSNkCJJZVUa7z0ROUes3e8GQo7PL1Qa57NC18HBzytLhMBNzVXoRUvqGtBLY3w2yTmwSjf5sgZN+VkeKj0aqbAt6tqP96uQhVGnP7q917txa\\u002fqIiQZ8pU3tgDwY4jz0LGptrwdBFMYxILMVs82XpTgAdN6ubyWj3VjXTCqSUlxeVMYIKSQC39xOap1f2elr7aTi+coGkdq+Kde31f4Tu\\u002f+oiSIx2PR3vyp7HalCIHII3nv\\u002fJSDOuHOePAEAY8x778ljAIZyb6i48DZvbG05MK1NHEXGGO98EHAA8I6AUGjHW502X2VkHAq2\\u002f1PobGOY4vIE2lskla+7RhWQ2mDxxLT7pllVYRyhq2VsUuJEaL1b28bdmFdNMJtSPOgkW3vZ8dhps8whGpApyEKulOptvDqjJVxmqt2+fPIy6orZpQ1C7HSltd5bzhmuZhWiXL\\u002fivGVC+rKw5A0R1pUbrovphOpKl1XdGcREKm6L5QKPX7gwYjdfFUKy5RjI8e4VKpeKsSppRXnWEBEAABLnSIRADBGZRJEw70xr1LE1Ez2UETry7hjsisqyZowxLqy1AGidCZQSvZ3Xm9VxlMSr+UJKxUiaPFqO87MPUQ0Ectbfo86Wzw55OYF8RSDz\\u002fJzAG5b4OAmStqkrPp\\u002fBxQkFkYnSoN1b12mc7Gy0N9YuPn\\u002fKuFgtaOdqj9grtelAkanBoM5n3eubUlrZyqGhtAtViUEAYCMiKyWLYpGvfNLiRvPxxeqtXxnNJs3FqUGuvVNhEOjaeV8K1VYhiDjcuAYXp3WxsjfuRbNLN9wR5Ejy0DYBkAYE8sQlegaAlLZEWVhPwhBxKTyY+K4y4D0yPEE9s9Y7RGSMa22F4NZYpSQgsbqsRbSh0r4zrr3Wr\\u002fNifugPfip719nZBy6\\u002f5NYwllJ6xfVf44JzZ31TGwDOGV+72vAIexuweY3vvBKMdpUI63IxlULGw25TV52rm8TQ5pbTeq0V6BoQlyeXQIF2nll2\\u002f7e2Nu9GKgla7UBI5sk5pKAFTcW54mFLRDF4Tx+8dxZGQVnlnXY3TqWUIltCoILLi4Jxf\\u002fM1cXEM2Uwlfdh6pQkiXq9kFGEYJrqyANAbiivXWv2NgAN64axFRGTkvSabykp7baA75MEKq2dWSAhCpuJAN1YI7pwL29J7MJpYPZtVVS37N8NWR6kwlCEjnB\\u002f3shOYfILNKcsP+fkHzNRy7auw\\u002fh0WRhi1nHEOgFW55Eymbeh0pGn8Ysqnx7rKKlfrxaOXKo5NWadpa7izefxJzoBlRxfx+pAEr+payrAwJl\\u002f59k6wvivCBKxmXLDhmtIaCL1UEMSsaQCIOQ+PHp51eqEIzd2vJYNN\\u002fuZ3ur11XNvocNUc7zemcmFq739DqsADAgHkGQ\\u002fb6JkQLEy7wZV7lJUagLoD1RjDADBiSvCrr8srb6WqxPl7VB779FWXXgusB+Jm7U7qvecpbP9KwhDWrnDBQwyi2DQ2jIZHD4+ka3aud4+PqvzQLc\\u002fp+KeSh9aSKHdMmIr0qmW1YKWToUJG+VKkHeutWK10Z8C4YEkL5bBTJCqoO0GaWK1rKZAgarX8srCNrud52ulli7m2\\u002fvzRhTf17v2hcKYxPuyhK\\u002fHJp9M3fmNAQE1t+ussSiFfyGIV5CtzeraQF3R2cBEEajqBIAlktMoXKq9aShavvMFmE6hqub5r97+gpsQkRY5EyMMBPvgFeCHE0LWvq+W48Iwn1yLvnHWMhW7wGtlaoYf5c8if1nvfSHyHmTGsXQ833k4uPisw8D5y4sb16uS0bIrCNU7Ilm14VddpGJARUdwA2jqjpjbVhKVtW58zFbMoIutclATEXVmiPYPRLnnCtU6+GIf5ZMbrqWIxFE1+eC6DwCA1ZYlxkG4OwXijHZeytTZYjc\\u002fm4+Iq9pwXyE2d6ScfT9749gC4mRxQZ52HsV1OhXPCGgoitbbN6lJ7pvZ\\u002fWQ13g84Qi5xbI+LY7Vxjk3OWdtBZn\\u002fa8CLHME5XWTGDcVcBc7YuNu5G1zMacIYp1YZSvjV89LwH83p0wTNzkQw2Wiat2mlWYgRlD+6baf3QhsuTaN7tFadjpJ5Nu5zybjKNu12trjK5LruISGba6ymjmvJMBxqk0DdYFV8LNx5i0eaMdoG8PEBEvTmRVkQhdlHrw+Wp8IFJu0LeuX+nf3I3aaTrooeRNVS8uxkCQrvWaqtr9xj1dY7FoPPjFzL14XLz2rbX1O3j4uZlfNIMNXuaSIbOaIwLj6FzY2wnu\\u002fyZGA1Yu\\u002fPYNXywZkVvbMLMLPx3X\\u002fa0ybrvLC8YllDVhQtEAe3tWc3\\u002f3O+ngGutdR9HF1rVo\\u002fWvR2jbfvS5v3gtffbPDGS4f22QgsG0NsOVJ4SY8uMJNY8FKqWiV1f2NgEUh2Kza3o4YU1Ha5R7mp1mgIscNoRWSSSWlCkg6ntJqbrMFM43yjjc1i\\u002fqEgfeMNzVfzahsJO+YdL3ivGjGZ80qF4wvLifVPGuy3FcatJYJNiYDMv3dIYvCMBBHj1dV4WeXxeu\\u002f2hldYwcP2dHzautmWmYMJKV9Iu6bmqSiIHTOEyHs3pfji\\u002fp07IWiwTbmC5tP6NprvHeVq56eHAHTjFEexn5tD1vbIuij7GBZQlVyW3NxXRgA58lqVuSGchb7lkykiNVg2L+y11nba5WsXB3kxcumPrNVbl1O84lmrkFY6ESUzcV+dnoSqIip2FobJpwFTATABOMp8RCcIxVhWZDWeHbSEHNlIcplUNZ13PbWQDZjjOHaTjHcKqk47mx201YrSFNE4oIngy4wpkJx9vmjcj6lMNm4c4X1Ul3x\\u002fQfjt357oNrBxRFbjs31e+2mIeMM55wAN\\u002fd8Z4hFhtmClnOum5BJUC0mYta94T02+dxJpdMOzMcijLCpbVXrrZvYvWIgsp\\u002f+dFVYoy04h2VOTe0YCi4oTgVTVnCcHC3nx4XJKb\\u002fURDhfVKItd+4NWxsRD2HzSlLO6stH82rm2Mn+nISXorm2l7\\u002f5PbVxy3tryqKWyK\\u002fcbl+51yfuhPRcogiER7BAJJqy5Is5HT5prKe6YY2l9gh1KeYLqx1t3lyuXXed7sxBVozPD9\\u002f\\u002fOGjFqpXEGz2AKh10xi8vHn3\\u002fp0\\u002f+5ov+9lC1+GAjtQaKPE8GbPtu3N4WSOi8soZbD1nGk7YcXuHJmh9sMpTGERKgK93aus1ngjPYutU6eemilIpccM6jHkuH8OP\\u002fR3z2M8lC1RsFxlvnIUmFCpBzcM5ZsjIQggnwNHmZRaGIO6Kq8+2r7fVRXDVl2lXpMGxcoUKbz+3qrMTf\\u002fIfXppd1qOL5cs5kaI2R2BpeUbe\\u002f1QcGP\\u002fqXz8qFDWIQgtel8wicozeEjHQDYSit1902i4YUt4l5gVJzVFEEGIogXZ9Prx5+eLw4vmic+MY\\u002f\\u002fkOvlxcPP6snl8uJAxnKKBGyckWmVwWCX7\\u002fGb70pqiX4InA11Q0NrhgPvphESCBiWxpnoW4P6NFHJjvWXOGv\\u002fke9i6cyatP+h+6rv4Nxvzl+qHzDWgP\\u002f2Ydh08ja2N6dEiRqg55ABD5JgSuKO1yEZAqrc2imdvpQB0LSgCnA\\u002fjCdTrLRZkLWUwNnz+cqatm5qWonZgsrqNW9EgxvxJx7QnblejK61a1s9eH3p2XehC1ptCO01mPQYlY7YGCdDyJmrBFMnB1qMWHX7vO048DzKsPZqVid25tvZ9nseX8Q+6Zzvj\\u002fd\\u002f+n71759I1\\u002fWrb5ob6TlXDS2SeMg05UBXE3ttVdFvmSxEtNzKJeeSxBC8NDOT1yd+46Q2zf02YH\\u002f+N878oChrBbGgt97o\\u002frkB7LVAxF7a1gU894tc36ggiCqPST9bPc+LOaQFaALIM8AvQxQxeQ8WiOIWZkIOYDiXLdXsejC4rIKlVqe10koy4XOL\\u002f32V2GVQyKF2LnT1RkFbbF5Kw4DgRJHu4KIPv\\u002fB6uDTMXnQ2hMj8kwm3jsA5Ia0DLj16MCvZtpp005ktmKmYZ01QEmToyppBQ\\u002f+3WrrdrOarkQkRSpOHu0H7Vyk895Of\\u002fYyC6IkxCifXrb6olgCgj16pF\\u002ffE5Vm5MA7SFs4G7veHiOLaSuUUeM9DwUP01jLFaucy90H\\u002fyb\\u002f3j+MW20lIpofms1bGLSLF5\\u002fH84tWnpmgXdz+Ji5LzyUTyjHOubRxy6WdoMhttSBGAkPmnA+7yFHZoi4OvNV+uJGkm0Gd6eXKBlFczxyXgXOO7bwWb72mbr4x7G8lQZe1Nvgyty8f6Wxuq8ogIgBwzj0QE4jcNaUVUnhCY2yRa5lAfyvVBMeP9XzmrCNrnUiYMa6umqpoUDUXx3PeckGXJqeXw0HLVU26xlW\\u002fJKg0Wa6QPAiJq4lud4UzWmvXWYNsRmVOKnQQNA\\u002ffm2rNgLPP3vUCuAp51OWizRaX\\u002ftnP4erb+vKw7q7L9\\u002f6V+ezfBlUeNGVZZvnua9SQJ6OKJTCOYQpRKjt9pQu6fA4IQd2QUjyIlehw0WVBLxjtdTZupCwR+apZzmwYBVJRuXTeNRxBBGEYp0opYyq0hrJJWWXi4IvL55+PQRB6AiTvScVIgLpwUcqtAaOdtRQlMoq59yZti4rbs5e6zuVgA7yiyQu3cTU8fqZvfDXWo0Q3MhAli+RoFGlttDaNddaYUaul8yYMpVOinNQXpzqK2eYdf\\u002fIpPf7l7M3fWtOF2XiFIaYnD\\u002fOz59S6kbR34umhk1HR5Lxc0Cc\\u002frsNE7X6Vy2GFKtrY6VhussuqN2ykSqYXLq+ciH2gIO76uIVN7mdjZz2gcpIBMk8golSavEaB87NVd5ASQSCD9AorphqBoSengZhjszPnNM9LtppbU9vxcfn5T55PD8sqM0wQCCAGPACpwFWIjOmGiIhLiGIpFVaVLTK\\u002fWjrPYG07CFsIIJ1B53iQiKgVXR4FYSiEWAjhBflPP3x5dDAuimJ1Up5\\u002fPC\\u002fHup47XTUyYkLJw49r5zwL4OxFtn27VZXQlBh0bDzgt74brN3ldmWXB3kQCq+iZHNNrYUilp+8s7r6thufiltvXNm6mzqts6ke7qnVzFUzQHJhy6d9FrRIlzLPuQi5iHx7wMIWxH2mM60SCFLJnFESjfXG2OWyKRaVNSUIxxhYB2S5sEbnc1xOdbnKjp4vJMjFBFarOTKPjDNGnmyQCF14RADPGPeAyJFbS945JBElaMg1NZyfNUhSSSM4VwHUhXdGqYAml5NQtQVrsUbYclbQoj8cldJsvJI408RRXEwYV2hzd\\u002fJFtTiyv\\u002f5fpI7RzleSYuIBQMU+SAzVAo07fG8yfKU3+sawvb5W1JRqV3tD4H\\u002fwZ+HOnb3OkOvVvCp1UzVJT2YZMvQqhqTD4xarGl+ubFn60UiUmWWS0i6pEKYnerQhTMA0Z85Lj5StmlYQXD4tnGVhBEICOeQdELYSJ+dLGShnBGh3ep4jcZmK2jjgHhyEMTcNeccZA1AeGQMB1ngEFMSc840jLlh3yHvIGbGm9NkEOGPZknNB9aqO024YdbPlUgSCRwYAXONlCMx7bNTkNGMqCFsencgzW+bw3p+W3\\u002f7D9vLYe\\u002fLWCGtM3IFZxoe7cvebg\\u002f7tjpdEhYs6cv3OYMUau3T5hTvi2c1bPb1kgocIlcmQeakiWr9RB207uwBCKaTb3KLVxFCDj39ebV8LPv2shIpNDmw1tfmBj1TADbV4TJltSt\\u002falGEg0EgPHpAxFtCnPztdLvXpiyXIVpiE6SiJkxQRkqh99foGEdiaW+29B\\u002fAMGSdHjAF4cIa8985QU\\u002fjZmTt+Xp0fm9mE4o70zDnDm8YIpWQQLsczrhRXJVHjNc3HRSuIqpll4KtS9zfYYJQOtsIgAl+b8fPGaQJF1mKzYrrgJF2dEUqMU65XDjzl40IxJtLAVHrw9Q27NGrqnn0wxoCLIEGU46emNayv32+EovxMVRNodepOH+IUzp8011+VUlOvy3upjJmYPmfZESkppser\\u002fMTEqRKxEpJduRMFSUhCSwWmcuzf\\u002fMmTy1P30V++WCwcAe9tDhtLXMqd3eHtOzvEqMw5EAiBCOgc6drWla8zaApflU7XYGvmGs6ASy68IybBoU96MXDd7sfpWlrpJu6FZCtdl6sJ+EroDLuDsN2O9h\\u002fNq9yvXWm111jYUQwlMvTeLw8h7jjyOD\\u002fy1VLKiMmA+Qof\\u002fnAxfTK3lQmtAGfQNYPbnYPvP5QtN7kwoRpIRe01BqAPH5TZDMIQmiNlV3DvTYoVw5rbjF293UHDrt7tUAPX74pOL9reTfvrabsbdvtJeyuezvNFVm7cjrOlL8q6WpnZSYHgRT7T6HwrarmC2nd6iNRe609PLoTkH\\u002f7iMEqi7iCeTwspORCFLeHJS2LOkLWOWQwT4TSupsQYY4w57xljgsk610x4FjKHNmpHi\\u002fG4mpqkC+0+W51D4avytebZx5e2tkqE4+P8jV8bmGVdZ4aIAOj9P5\\u002f9zn+9nfRsUWG1sms3CBlk81p6quaOGbucWqyxOHQqlPnRjMtQ9uzZy2tJvxluqc5aks9WD\\u002f50Pt9P975DvSuyKbCeclSAKNpdtAve6VO9wFYPtu8A5lErlJyFcbdYLWulpPJwsV8YrZGAPHZ3EgwZIw9IqJQUEU976fad6+u7o717V6oat7d3jIbF1AEFtuHGsLLU1pCuwBlCZGEcATAReM6YtdZ7C0QMOTmqiloFoWksFVitjMSkO+px1SPTa\\u002fdSj\\u002fTpD6e6MhxRKJw90Q9+PD1\\u002fngkuBBeI2BT00b9edNZYuAblRDDuO9t0+LEjabJJcfF5bcpaZuzo358+\\u002ff5LLgUK56kpc\\u002f\\u002fBn2X5WPS2OlzKqB23hswVQpasHodp4vQF67RNeVT213HyabWxbldHsHttNdq265upB9MeiK2tdoTBYrIydQMIIJmXTMQQtpExLu9\\u002f87Xdb7yy\\u002fdqdqrBKyl4ClyeLu\\u002fdHVdE4L43hViNjAUNUYcwlJm2lIikkN41BoCBUqlU5Mt4TeM6IgNBZtJUrF+X45Iw54lJJlBK48AoxCERU5xaBcy7AUtXYh+9c5mMbcCE4F0IguKPPZs\\u002feXw6uuY27VC3V05+tzp5oxhERp89X1dydfrywjScLKDgI4T2eP3ve2PiX79q65ER+5z5s3Q8GV1mZIxfF+DOUaL74CxdA+PzdausWP3xf9jbw479K4uEsy8soEc8eToyzUZdf\\u002f8p61ApYwESMKmJSsvlZgeHOqNtJwHpLuHVrfe\\u002f1G88\\u002f\\u002fdzU7s1fvXq838xmJSCOzy9cVUkJ3nlPFjgiWMYQkKKUaWOQoyf0BpvSg+NCstW03ryyZrRxpeYo4kHESZK2ZVkqqS7PL4CIMQQEKWSxaGIMEfmXQrFzzhhjrPXeIWdhKp2xAnmYBmVVk3fIlCcPxLwnlBCng8blXoqAbaGSrqjN\\u002fKS7A9\\u002f6w65Mvddw8aSsV4y1ODX86pv09B1z51eDk89h+z4dfEQ3vqNPP+nOz+HsbMGAvfbG+nJan55mdaFNqZvKE1kF3FkUtjST1WUUyr2v3fWI49P5vVfvHLx4evJyzli7XrhWpxWKREfcGw1cg+emMVyA1TZQYjmxQcqQnK4Q0KXtIEr4bNwwQMYQyCftpD1IFtN8cbniSgiOy8mMvOecIwKg986kQnrH8P8PzjnnnGn9pRSMmkdScQVxnJSF9hYEh+270fpeFHS8UBgMZD6LDx7oy6cF1kyXK19XN76+lm7XdsFOXyADOdjz7Q1hHBs\\u002fZ3e+y8++cKPbdP6c73xNn34hxy9LJoOvvbX9xWen82nBPAfLGcPuRjg+KJ0GWzuQXHhgqOQr37q\\u002f++ro2WfjkKmT5y87vdbkMNu7f+2jHz4Y84AHioXAgxAsF6LhAXfaNLkvMqNCgAzjbiAT4xqxHJsV1921gErrrAYDFv3588tQBpIzJMgmK+8NIoHzxIEDp4J5koD\\u002fQSj+chv9kppzznsgDwCMJbFGAM+uvBJ\\u002f4z+PlYR6IfIJLY5gfKA3b4hv\\u002fm2ubfPsHffwR9n6XnT7122VqXzuN26C0cIWcnpZb16Fg7NaxDg+NL3tkBwQBC8fFJ1uy2s+Psu2t7qTo3znzlrx0Vm7z1fnGCVYEyMN4An5xgZ5vzZsOVPtvn7TWr27nV5cZqaJXFGtxstp3jARq7b06JlkCCXYhgWWO6iLKl9aLpBxYpyCkKcDkU0aJtq2qAdrvWJS1qsiSpJWp4XI8mW2mMwBnJSMM1FXulmaJEyZ4IyxLzf2L2F92VPee+cAgMXXd\\u002fPxpRIsO5++8Ycbo1d4OmrQeWDEjTt+LH3F66UXLRskrDeC1bFWG9AbyDzzXGJ2Yh7\\u002f2BbL+sq9+Ojjqsz07e92p\\u002fvN7uvB8w\\u002frpJ101hPJUaVqtShsCaFicZ+dnU5FyIvMNktfXmrOmaCmBiEvz2cM7XUO1LgaOWMBaPv0o2dkPYSq\\u002fcrVziidPT3w2qhIAGM2rzzXqhV1Q9KVbSrrnW8qly39YIO72ncHfWN91E\\u002fTtU4sw2JZmKxSAcYxT9OwKDwn0E4i+KIqkyT5ktSXLxsA8OXwIiIvRHz9pkHUZV2VpTfV6hxdLcn5MMFwoMOUja6xcmlQ4vJY6QWRpagdysho744\\u002fqE8emtWxL+uayM9PGwAA77\\u002f4wZQsXByVRNDb7Fvr6pqubieTC58k8vjJmJ9heyNk4Bl5ZBQkjAwIKGqIgDg68tl4tbqYxhu9o49e5vMMGMMw6Gxsrr\\u002f+6vTjB7a2MgxMrVUkAS059MZyBWk7wkllcm+84QCTIxO2kTGmeJhN5p1Oe\\u002f\\u002fwUHEeprLJNYKfTggcxl1+5dUoHvBs5l68V4aR8iQYsi+RAQIwIA+dne18mlXzuXPeAQCJg19cfOM\\u002f+UZ+Nrt8Mk+HLFAwjfzGa9i7ykXgp8\\u002f85BnFHaCnKlmnzVexrGl8WMpI6JpsbRhnoh+xxnkJLGK2tLpsrGHOg6lLszBNwJwl7pVuXNNYyqGaNQw5QxQsibA21him+PMP91nEr63M5PSSh7Fs9TZev9+6fsOXtbFA1ntvkDHriLciV5tsNu8OlatMqx\\u002fkVHKZAJJSIk7D+enCKtdutYNW0B10FpM5liQ4M7XpbYqr91uszeOR7Y+ayxfx7AjqRUMMrGFExBhz5Lq3WmYOjdbV5cQzBGKAHJkr59UH\\u002f+L9a2\\u002fubb667nR5+sUibYmjinbfcMBkOoByjKZwuibryTF551vp3tvhox9Up8+sNcpnFiPOJLKGmqVmAjdvqcuLut8Pp\\u002fN8tlzZnABRBs3qGAjJlAbpy9kAKPtrSOSsFXEUdltG6976oK4aJZNw2B\\u002fcv8f7bTo8P3jw6ezgSCRB2E6ITNSPgetmsswXWbsngxaqCOfjhhklJfe1q5bF6Nrw6PPj1956NVvly\\u002fNlk1dNXV97M9j9Zu\\u002f8c3flVcPatDqF1QWWU5zsl85aqpAMpoOg1pRuqOXUxWvXmmiHqqY8fWKzGTYNkPfgmXUY+jd+\\u002f64vtXWumta9vXj7a66cA+dsdcGzU8sEEvq0D909CvpUZv7jH9jVoXGNZSGzpfFZQxIl2d\\u002f5H7biodELYWxdTuXhh67KyuwSyDtEFoRQa47WC+\\u002f98OqVy\\u002f3DzXv3HHJX1RioZD2Oux0x6PBO6ld5ni1XJxeWQcC4c8Q41xVF7ThZA+vEdDzreCmlGm4m88NKN85WhjEGDXbWOovJAjnjTDSN3rwj7\\u002f12++iB6V9lGNmLz8X0GAdXIM+tCqTmZNCZBV37lvrkL1bLM++l0qsluA6IVrD5Ku\\u002fM7dk+kWUmBw\\u002fog2fvnL39B7uNNZe1887PT6izTchILf3wNjIBRGgbq0uRXRIivv4dNp\\u002fio7\\u002fSdY6EIITUdVN5\\u002fxf\\u002f4+Xf+m+G175daM\\u002f0ErpX2KO\\u002flqrLzAV5Qt1o7703RkTtbu\\u002fa9cXZuejE7StXmot5MZkOb93EUHFkBGAm8+LgqNE1MKwrnYYdzn29LASPgpZoX02bKq+WnnQxuBa3R2pxbmztGANimLQSMJ4czMfz1pDd+93e+RMRtW0Y28kX8WLatIZ+fkFQAAAwJhixqOsGN5El3BM64I0HWFySWPi6Wb+7d6l7tFg6wymJbFkXlfnRP3+695X22u3W\\u002fKBqCjANpetB5xVP4IWwiK7VZfncm8ZHXS44UcR\\u002f579vP\\u002f1Z\\u002felfkucAQqFzdaH3f+6YCtbfJJZWkQ9ufU8uTtjD4zruyNXUIgAC4O2\\u002f9\\u002fcX+y96W5uy0w42R65omOJy0APngGjx+LnX1ezl0eJizqSUYSikVGnordHFMt1sqx5vsmL5cgnkeNC0ukG9MIEITK6jbsQ5QuMXp3MC\\u002fut\\u002fnCwOVDnHYFSA94uXqtYQtJrpKYRI2qAt7eqyufbNqL+jXrxriwVvGIreFs1yjwLqWnXZq38wmn4yO3vcNAuLHpUyyEtdmLf+QVfy6PKhJk\\u002fBgAVtLlDIwDnGg74d7RlHUXbuyNP6bZedSfBWxPb9\\u002f8uefqatrqy2DPErv94bvqauftt6TVzCwc8EOfP43bI89Q4BiFg06FBVxXsbQbcHyEU7YVGE1oMxYM3aa7fzyXR+PuFCIfCw3WmqHIGptEWcN8tSr6ogSdKNlgdoCjY71d5y5MxZvzpb6Jm5PJzbGt78+5Ezolp5JkjFWC5F0dRh25CBuM15IkASF9gZBf0tJVos6AnPCIAhCtbp8STV3CMzxdlUpb63Y4K0Bqgc1YIrLvinf7mI12D9VT68GsmAgaEmM\\u002fNDWDwx+gLHH0eLfS8D399xMvIeyukpZRPx3T8Wb\\u002f1RIpKYcQYOpydmcdTUM8EYIorhKyQHfHQnkrFwDohI1PNFZ\\u002fc6B2kFY8Ya7VQndWXNyD36\\u002fl+V0xkQMqGAGctUNlsqmWhC0dSt4XD68kTFLYog6kvyan5iwXhUvJgXg0F\\u002fej5dXU59w6+8Hra35PlDZyquOg4d8w0wFCKhVcPkwFODUFBTO2Q8UEg1bN8Ri1OtNfcW\\u002fKrw5YxZbYzPXwS6rLT2SoCPQMowSNGUhV25D\\u002f7vyzf\\u002fzpoRLu1xJgGErWe03Od1zhfHjQoZRrRxV9rKdtYDGdp6RS9+zna\\u002fSht78V\\u002f\\u002fT5SdF5Mj39vl8xd2\\u002fXXgZKO2JCP8Ji93GC\\u002fq\\u002fLDB3V\\u002f9Xv\\u002feHcHQIlKpWcigtqLTWrzcF549++AXHogxCiVqFBbCIEqspc5GxzdVXTYmn45ujETieGKX52V1TnpZddoh2Yo7OR9fxlH47X\\u002fWy55jOSPZd7zlogjnL3yeERf+8qkjS7LNmGBoqbPN+tcIOV5+brNlcHGEZLlzBp0nZxk1o\\u002fud6qBgHaymZLVDSRvXe7P9hZKiXGnvjBfELbIAf+2\\u002f3ZDALbD6jK1OrDVkjBcJSwfUv+k7m2FT+OzQFyt+\\u002fW27vISf\\u002fx+L4tze\\u002fKYUCQKom7\\u002fNGMblwumJVMPm8P3i2TsVSzq9MJDeewlUL+aWwHA6ee\\u002fnYa939vSx854zTCUXzIKySrW45xwIHZaLqr0xBAqn5wuTee6Cwc14+FoYttxinuuKN6sanHjzH4W2EdkMGqu54r1+4DSsLiFoIVpXXDbQ+NVB1cx8e5MwJMs8YdO\\u002fFThjkCzaijnz5cUHtckOM125ZopON64xNm8YBxUGLMCwxUUgOQpQXGv\\u002fN\\u002f\\u002fz2AKh0yrVyYipmIeRMJnJzv38CX\\u002f5M+0b39kWUds8+YUnAa\\u002f\\u002f3Vb7Cjv8HBwT6ZYylSrnRq9cNIDx5+7gI9saKPz6H\\u002f+XepEFo36TZa7w4\\u002f3p3m\\u002fcP\\u002fjX319dFky52pYxeKht0O8WcY9ZZKjIWy+4CAKhXJOvmmURCBuutdZewbBXQI4n7y9n+w3oZvet5Ct\\u002fkE4\\u002fBBZC3AM1JNRi\\u002fyeOrE+uUnbYvHw\\u002fi9tyNWvidbFxM+nsqfamBctWZ1ao8NF7LmiL4qKW5AebqUqNirkMg8VxaRs4f7aql83Waz3Bguyy6g7U\\u002fKKuKy0CUdeGaYche\\u002fuPRuE6UcFMIWYnxmREnoIWF8rxgF39VWEbz5VxRlx8YtfuyM\\u002f+5bJ9Vdz8nmg0Ss+YC1YLX2e+v+OyCTBXzKv52Dbl+KPP1KCbv3h0+MF+2I6dKbwpW0EomhoDT4noiDhgLojbKAOmEltql5s4TjkPHAXCRwhMRQyFVjHEKYQJvvZ3WsVJFIzY4DUZ71G15BefQRDw9rZs9fH0cYECK+dFLFrtsL0WgLFh1weh2Hgt6t3Ur\\u002f4+bHwlHN1KklG0WtZxNwpbKTIKlCTA7Xu9rdv9k8\\u002fnUhFTnIipkBGQCKC\\u002fnsiU+8L+9H87mb8A1kJiOhmAUCSkq5ZaN2x5pl\\u002f+NDMNqZBZXwctMTvRt34vVgmdfgzlM14s+HxRBy1IR2w54adfNOzZOz\\u002ftbHQnDz5dHh6Vk7GMVPHhjxYX55HyoWCjDcWTsD0c+ItLv3wRttHPngSddUkILJSWfFELpoJ45AjNpbEVkCciWxX1V35vlB3z9tCsvaplqKefyIsPrExp9DrWtvrlv17WFXqPyO3unWR4XVw8K9dvSSbIWZw8xpNfcqFEPfNcklnq\\u002fLw8\\u002fmzR5M3yyDCOnMTisDKN2767dvR03umpYqE7G60gCKIkKpdV1FasxYn8R39yvv\\u002fjTEYSEpeOZGtDqIDnkyZOIhW0iqnLl0bwgCuQitaumSd\\u002fXX\\u002f4f07zBWOI3MbNEiVid4vaVxCjfvvGb9x\\u002f8ZNnzDLRkb5CMguyzebeaHQ98IDU+GyZND4w5GxT+TIvNESbN4rMptwxCYvpiix0N7jq1P09vzzNJ5\\u002fO02F877danR1XTX1rDWYv+eFHerQX9F4xT35Uv3yvIWdYyKm2218f9EbNycfuxndamtzWbWZIoHDjT+j8ApQPs+NctkQ2rpuJbm+EIpbZRbV+Q4YtcfB+Tpyt7\\u002fXKRUkEcSTKogIv6rpu9ZIyq1cXWWstMhYZ2u3Xk9F9RVZUp8yVTDcm6AhC6lyFeA3yS\\u002fKFjEd6ts+E8scfZ+USt99O+1dDXziwgQwdQ8bPH7xQYWCs1gsNoG\\u002fc6r3xazujKyGznBnJQfZGbvL8aXV8VE8vLQbtjU1yVjSzOpuFyjeTU5ed6NXUXVTVhJYHuav8K9\\u002fr8j7OTx0oefIIDh\\u002fY9jBhHeuRT\\u002fax1Ym4YPe+FxPg4Ao9e8ff\\u002fd0WT2jjFqsKKsf+8F0\\u002fe1l3Yi0i4x2MH69aAwyGND8pysny6\\u002f8kSNbtvX\\u002fgvvlPe2lXnD+9bFbValLFA7\\u002f3rRjRD0btsmgYo86oM7orv\\u002fVPkuFecvZZ84t\\u002fvrANEmedaw6UyOdW5zB7YcuZbq+zaMOpVFg0H\\u002f2L6fB2+tXfX0ONJz9r8nEUDeXi0gkbh1lW8IYxjlduDXuD9OWnj7ev750dL\\u002frD8OP3zm\\u002feGezeUJMbg\\u002fnUtgZ9baA4eIlgPW\\u002f7qqRhigTgoJWGeu6Xp7Ny3Oy8kRZ5w1sk22Z1iNN9UkyYqiDL5xdOYAKBRgGW+fZIFTN793fDxmDUllVhZGJixTiXi8Q9\\u002f5lv6oUA7Gzgr\\u002fwxz2dJfRIcfVjzKuns+E\\u002f+hIZ37O635ed\\u002fVra2gntvJ8RtqPzb\\u002fwzf+V+yeukEQf8O790Iki137TfZnST97P+tzMK0bziq2eCOJi1Xl85M+Oo0lB1DEoul6m7Ewz169k7OML\\u002fzW9v9V4SesJNPmkc\\u002fnoiYMYtcBPLO65th2Mxn57furU8uFp2OPD0o3\\u002fr2xgfvnK3tbPZ6fHq6XB2V3jEHHrHdHQ1VBLqqg7YaXRlODibru53j57WUorWeVhdahBqBz166ZgYV1P1d7skunnnvbW+TeycPflR\\u002f9e8NDh80\\u002feuAyq7OKYpZcRblp37\\u002fw6lZYeeqWhxXDuCtf9w6fIePv6iTPu28KVYXDUvk1rcoiuz5A9r6avCV\\u002f5Sy\\u002fWb6WGJPnP65N0XDJbBApiPx7Ce5DDqCs6zwrW1+8ri4OYoe\\u002faAhDUGb3\\u002fzNeJphNYYFss61oJjh+Fio\\u002fqCFs\\u002fZO6+m7l8vDwqK79rVrcthmvsiUsV97azA\\u002fv6TGzk6L\\u002flAmveHRISolH3066wzD+YUf3biHxBh5zl2rP9RIpmmWl5NmWSRRkF9kQmC2WLhKr99MipkD4eqMLp\\u002f4\\u002fNSbgkBaQ76ew\\u002fhxFa\\u002fb44f59W8FEMDH\\u002f2q691ZgMoYWdKlRWNUz3T34+n+Wvv1P+64xYYt997\\u002fqdrYED7B3A9NtkC0m1szglWa420R9U1z6t\\u002f7Ic6uCNbf2hvHCqhQ0EggQnL\\u002f8ee4aW05w\\u002ftI9\\u002fsH0+N3q6teC01+aqA2Se6as9yzYJNmGbALlIoQwWp2VpRjk1Hrx7gS9uPr1qyqOT57PhqOeMMK9dn9NN2ZnLwlCHK7Hz57N2u0Rh8p7xQT2++2j58XuvWPGtdHgLNbNVApZzZc8oLiVOG1XxaI36p4fHUII3kF5pFtXbTXlaZBCWmeXNSuxWOrZgVu7Frc2eHVpHv9Nff\\u002f32k9\\u002fWD3+YXXvd8L5kTl5XJTzqD2U9bLJCqu8mR+aN\\u002f7jzuwE6CVvZtSUduebCZAOkibsUJmz8w\\u002fFzlu80rbKjZ2xw19WrvBBEEpCQGxsiUwCoPfN2fO6mYFQkE9w\\u002fV7EJL73v19c3WoLaSZPwJaaAR49OLj23WsgwvnL\\u002fd7OrWZWrt25nmxJ69jZJ5PLFzPcvDG8ej1Cr9KOy+Zyey\\u002faf5znWR1GarEoNvc2Lw\\u002fHV28M+xvy\\u002fXfOi9xwjBGwbhrGmGc2jELPzGhjuP9g39Z6dHvY34xufnOtu81aSSRCX5z6k+eL88MFIcyemdl8tfM1JZhYXji9dLe+G17sC9k1nMzRw4wznnbC5UJjA\\u002fMD270SDO761REMb8bAbWsQM0TG63jdYSSKF5Ycb11VMjL5GdYLpVK\\u002fHHuzoPHjuq4aIgaESc87JuqZAWIEoFLau9\\u002f3RO0taYE9+NNMmxZjzJcL05RINrlxTaWBaTwLQuZNry\\u002f3fuXGB3\\u002fybpN7sXGlUxS6P2BJGhzvZ2sjt7YVLb9o0lQAprVtBlvtuOPOT8h7yZBZ5xhCnKqyseits+Vgozc+OfHOdNfbeukvsly0zOubW8PNFJReG\\u002fLODnZfBr7h\\u002fg58\\u002f3\\u002f9rN8fjI8X\\u002fV1anavpsezf1E1BOuMAgoiVSyMANHgRwOCaKk+1kH7+1LS2OB+RTBqOlF9Q75bPx7L\\u002fKtZVdfFJGPYhHJT1HKrLYHGkZciqApEYAyrmCOS+NK4you3X22XlWyOmazr6yHWuD1S\\u002fO\\u002f648OAEk6QLLJoCHDa6tb43ffK+mcTZorjx+28+\\u002fstH+Bt\\u002f++7JUX7rfts6Ypzbyj7+eMKV+MrX1xaZyjQ665vJtNPtnJzNyqV1znHOEXzUC9vd2Ds\\u002fP14wxapV1Rl1xgcX\\u002fc2WGDgGdOPe9tr19u03U+CeGTGfN5OnVrXYZ+88m5wVrXbiVE3WKhV7tM7byUHBmXTOIaKQvCk8SussIAMVSgGcOO68LpN1z2O\\u002fPPRxHPCUZk9Z0LHO4tF7oBKzODHWgCePiMiYIw\\u002fOc86ZcL2roa+Ip6zVAR5Glsl0oJwID36O2SlXvQ4xcosTBBZe2SzOjtKtG9X8pNtfv3z0sHtjg8UJG+ykaaqA+PmJiVvYW4t37\\u002fSuXu+dHK6UaLZ30NcGEGVSN5X3pKXCVlu1u0pn9dGjs\\u002fPnUxmL4V57uNtdni8lSRkrgsZq9+DdF+eP5i8e5KaytdGCQdAjW3qzUt\\u002f6vb3GmHrmnaNiYXzBbAaCB4wRomeMiJwIPRBDZNzw4sy3NuRgT+qGn3ziypl3WtioOfiFS7f87JCvTinZsJPDSmtvlacQXUA2BEgEtZVmHi2fHTvduMnDhqdRMWWe+ezEnv0iR61bm56JpavPw41RVWXNYsajBBlLh7tl3ex+7+uLk\\u002fnq2TH+o\\u002f\\u002fuLahxNte10f1h8MVH01YrHR8v4jYPIu6sqI3p9OJBn737TgMaucqEAAShQt7uRh4xXxXVJO+M2tOXy85OjMJ7sapLMjkLY3XnrVE4VDfudlkQVLl2dZ32Ok9\\u002fea6b8vTR0tTgyFVNzRgCei5QiP\\u002fgtCUiIEaOkeMbd8TiyAyuB8lIG3LgGJasMsQZ1ksfDtijP6\\u002fXrsdMmMWRxwEIwZaLxlvOvjTdEydtiQHziNrzUOx+J7F5IIOEhYFDNb+M8uOJa8rW7u3F8YkKUFfz\\u002fr1v12f7drlaf3N3frIqj5ciTOzFsjk\\u002frX7j724cPK6kkEY3DFkQt4NQtdbdxl7fU\\u002frzf+c6w+n0orKGNbUhPWegzo\\u002fmnggtkdEW\\u002fPZXBnneWFshJ2YZ4ygDfPLB9OZ3BqqlnPeSs3QUVXV19e7g\\u002fCld+xr75IdjkJoL\\u002fFJ\\u002fBocAVkpZlZrAC8adNukGu3jYrN0JLHPPf+J7WyzddqLrswfB5mtm\\u002fpQD+MFucPkkb++FqsNWuXPaEjJCcEAM0VnLBakIbQ2ucYz48rnlsUBPvrb1XE+eTqK1dpkX5Scf9m\\u002fdY3GH5bH3TpeVL\\u002fLDn3w2unejAPj\\u002fACg6g0zoR4NjAAAAAElFTkSuQmCC\",\"type\":\"image\",\"xaxis\":\"x\",\"yaxis\":\"y\",\"hovertemplate\":\"x: %{x}\\u003cbr\\u003ey: %{y}\\u003cbr\\u003ecolor: [%{z[0]}, %{z[1]}, %{z[2]}]\\u003cextra\\u003e\\u003c\\u002fextra\\u003e\"}],                        {\"template\":{\"data\":{\"histogram2dcontour\":[{\"type\":\"histogram2dcontour\",\"colorbar\":{\"outlinewidth\":0,\"ticks\":\"\"},\"colorscale\":[[0.0,\"#0d0887\"],[0.1111111111111111,\"#46039f\"],[0.2222222222222222,\"#7201a8\"],[0.3333333333333333,\"#9c179e\"],[0.4444444444444444,\"#bd3786\"],[0.5555555555555556,\"#d8576b\"],[0.6666666666666666,\"#ed7953\"],[0.7777777777777778,\"#fb9f3a\"],[0.8888888888888888,\"#fdca26\"],[1.0,\"#f0f921\"]]}],\"choropleth\":[{\"type\":\"choropleth\",\"colorbar\":{\"outlinewidth\":0,\"ticks\":\"\"}}],\"histogram2d\":[{\"type\":\"histogram2d\",\"colorbar\":{\"outlinewidth\":0,\"ticks\":\"\"},\"colorscale\":[[0.0,\"#0d0887\"],[0.1111111111111111,\"#46039f\"],[0.2222222222222222,\"#7201a8\"],[0.3333333333333333,\"#9c179e\"],[0.4444444444444444,\"#bd3786\"],[0.5555555555555556,\"#d8576b\"],[0.6666666666666666,\"#ed7953\"],[0.7777777777777778,\"#fb9f3a\"],[0.8888888888888888,\"#fdca26\"],[1.0,\"#f0f921\"]]}],\"heatmap\":[{\"type\":\"heatmap\",\"colorbar\":{\"outlinewidth\":0,\"ticks\":\"\"},\"colorscale\":[[0.0,\"#0d0887\"],[0.1111111111111111,\"#46039f\"],[0.2222222222222222,\"#7201a8\"],[0.3333333333333333,\"#9c179e\"],[0.4444444444444444,\"#bd3786\"],[0.5555555555555556,\"#d8576b\"],[0.6666666666666666,\"#ed7953\"],[0.7777777777777778,\"#fb9f3a\"],[0.8888888888888888,\"#fdca26\"],[1.0,\"#f0f921\"]]}],\"heatmapgl\":[{\"type\":\"heatmapgl\",\"colorbar\":{\"outlinewidth\":0,\"ticks\":\"\"},\"colorscale\":[[0.0,\"#0d0887\"],[0.1111111111111111,\"#46039f\"],[0.2222222222222222,\"#7201a8\"],[0.3333333333333333,\"#9c179e\"],[0.4444444444444444,\"#bd3786\"],[0.5555555555555556,\"#d8576b\"],[0.6666666666666666,\"#ed7953\"],[0.7777777777777778,\"#fb9f3a\"],[0.8888888888888888,\"#fdca26\"],[1.0,\"#f0f921\"]]}],\"contourcarpet\":[{\"type\":\"contourcarpet\",\"colorbar\":{\"outlinewidth\":0,\"ticks\":\"\"}}],\"contour\":[{\"type\":\"contour\",\"colorbar\":{\"outlinewidth\":0,\"ticks\":\"\"},\"colorscale\":[[0.0,\"#0d0887\"],[0.1111111111111111,\"#46039f\"],[0.2222222222222222,\"#7201a8\"],[0.3333333333333333,\"#9c179e\"],[0.4444444444444444,\"#bd3786\"],[0.5555555555555556,\"#d8576b\"],[0.6666666666666666,\"#ed7953\"],[0.7777777777777778,\"#fb9f3a\"],[0.8888888888888888,\"#fdca26\"],[1.0,\"#f0f921\"]]}],\"surface\":[{\"type\":\"surface\",\"colorbar\":{\"outlinewidth\":0,\"ticks\":\"\"},\"colorscale\":[[0.0,\"#0d0887\"],[0.1111111111111111,\"#46039f\"],[0.2222222222222222,\"#7201a8\"],[0.3333333333333333,\"#9c179e\"],[0.4444444444444444,\"#bd3786\"],[0.5555555555555556,\"#d8576b\"],[0.6666666666666666,\"#ed7953\"],[0.7777777777777778,\"#fb9f3a\"],[0.8888888888888888,\"#fdca26\"],[1.0,\"#f0f921\"]]}],\"mesh3d\":[{\"type\":\"mesh3d\",\"colorbar\":{\"outlinewidth\":0,\"ticks\":\"\"}}],\"scatter\":[{\"fillpattern\":{\"fillmode\":\"overlay\",\"size\":10,\"solidity\":0.2},\"type\":\"scatter\"}],\"parcoords\":[{\"type\":\"parcoords\",\"line\":{\"colorbar\":{\"outlinewidth\":0,\"ticks\":\"\"}}}],\"scatterpolargl\":[{\"type\":\"scatterpolargl\",\"marker\":{\"colorbar\":{\"outlinewidth\":0,\"ticks\":\"\"}}}],\"bar\":[{\"error_x\":{\"color\":\"#2a3f5f\"},\"error_y\":{\"color\":\"#2a3f5f\"},\"marker\":{\"line\":{\"color\":\"#E5ECF6\",\"width\":0.5},\"pattern\":{\"fillmode\":\"overlay\",\"size\":10,\"solidity\":0.2}},\"type\":\"bar\"}],\"scattergeo\":[{\"type\":\"scattergeo\",\"marker\":{\"colorbar\":{\"outlinewidth\":0,\"ticks\":\"\"}}}],\"scatterpolar\":[{\"type\":\"scatterpolar\",\"marker\":{\"colorbar\":{\"outlinewidth\":0,\"ticks\":\"\"}}}],\"histogram\":[{\"marker\":{\"pattern\":{\"fillmode\":\"overlay\",\"size\":10,\"solidity\":0.2}},\"type\":\"histogram\"}],\"scattergl\":[{\"type\":\"scattergl\",\"marker\":{\"colorbar\":{\"outlinewidth\":0,\"ticks\":\"\"}}}],\"scatter3d\":[{\"type\":\"scatter3d\",\"line\":{\"colorbar\":{\"outlinewidth\":0,\"ticks\":\"\"}},\"marker\":{\"colorbar\":{\"outlinewidth\":0,\"ticks\":\"\"}}}],\"scattermapbox\":[{\"type\":\"scattermapbox\",\"marker\":{\"colorbar\":{\"outlinewidth\":0,\"ticks\":\"\"}}}],\"scatterternary\":[{\"type\":\"scatterternary\",\"marker\":{\"colorbar\":{\"outlinewidth\":0,\"ticks\":\"\"}}}],\"scattercarpet\":[{\"type\":\"scattercarpet\",\"marker\":{\"colorbar\":{\"outlinewidth\":0,\"ticks\":\"\"}}}],\"carpet\":[{\"aaxis\":{\"endlinecolor\":\"#2a3f5f\",\"gridcolor\":\"white\",\"linecolor\":\"white\",\"minorgridcolor\":\"white\",\"startlinecolor\":\"#2a3f5f\"},\"baxis\":{\"endlinecolor\":\"#2a3f5f\",\"gridcolor\":\"white\",\"linecolor\":\"white\",\"minorgridcolor\":\"white\",\"startlinecolor\":\"#2a3f5f\"},\"type\":\"carpet\"}],\"table\":[{\"cells\":{\"fill\":{\"color\":\"#EBF0F8\"},\"line\":{\"color\":\"white\"}},\"header\":{\"fill\":{\"color\":\"#C8D4E3\"},\"line\":{\"color\":\"white\"}},\"type\":\"table\"}],\"barpolar\":[{\"marker\":{\"line\":{\"color\":\"#E5ECF6\",\"width\":0.5},\"pattern\":{\"fillmode\":\"overlay\",\"size\":10,\"solidity\":0.2}},\"type\":\"barpolar\"}],\"pie\":[{\"automargin\":true,\"type\":\"pie\"}]},\"layout\":{\"autotypenumbers\":\"strict\",\"colorway\":[\"#636efa\",\"#EF553B\",\"#00cc96\",\"#ab63fa\",\"#FFA15A\",\"#19d3f3\",\"#FF6692\",\"#B6E880\",\"#FF97FF\",\"#FECB52\"],\"font\":{\"color\":\"#2a3f5f\"},\"hovermode\":\"closest\",\"hoverlabel\":{\"align\":\"left\"},\"paper_bgcolor\":\"white\",\"plot_bgcolor\":\"#E5ECF6\",\"polar\":{\"bgcolor\":\"#E5ECF6\",\"angularaxis\":{\"gridcolor\":\"white\",\"linecolor\":\"white\",\"ticks\":\"\"},\"radialaxis\":{\"gridcolor\":\"white\",\"linecolor\":\"white\",\"ticks\":\"\"}},\"ternary\":{\"bgcolor\":\"#E5ECF6\",\"aaxis\":{\"gridcolor\":\"white\",\"linecolor\":\"white\",\"ticks\":\"\"},\"baxis\":{\"gridcolor\":\"white\",\"linecolor\":\"white\",\"ticks\":\"\"},\"caxis\":{\"gridcolor\":\"white\",\"linecolor\":\"white\",\"ticks\":\"\"}},\"coloraxis\":{\"colorbar\":{\"outlinewidth\":0,\"ticks\":\"\"}},\"colorscale\":{\"sequential\":[[0.0,\"#0d0887\"],[0.1111111111111111,\"#46039f\"],[0.2222222222222222,\"#7201a8\"],[0.3333333333333333,\"#9c179e\"],[0.4444444444444444,\"#bd3786\"],[0.5555555555555556,\"#d8576b\"],[0.6666666666666666,\"#ed7953\"],[0.7777777777777778,\"#fb9f3a\"],[0.8888888888888888,\"#fdca26\"],[1.0,\"#f0f921\"]],\"sequentialminus\":[[0.0,\"#0d0887\"],[0.1111111111111111,\"#46039f\"],[0.2222222222222222,\"#7201a8\"],[0.3333333333333333,\"#9c179e\"],[0.4444444444444444,\"#bd3786\"],[0.5555555555555556,\"#d8576b\"],[0.6666666666666666,\"#ed7953\"],[0.7777777777777778,\"#fb9f3a\"],[0.8888888888888888,\"#fdca26\"],[1.0,\"#f0f921\"]],\"diverging\":[[0,\"#8e0152\"],[0.1,\"#c51b7d\"],[0.2,\"#de77ae\"],[0.3,\"#f1b6da\"],[0.4,\"#fde0ef\"],[0.5,\"#f7f7f7\"],[0.6,\"#e6f5d0\"],[0.7,\"#b8e186\"],[0.8,\"#7fbc41\"],[0.9,\"#4d9221\"],[1,\"#276419\"]]},\"xaxis\":{\"gridcolor\":\"white\",\"linecolor\":\"white\",\"ticks\":\"\",\"title\":{\"standoff\":15},\"zerolinecolor\":\"white\",\"automargin\":true,\"zerolinewidth\":2},\"yaxis\":{\"gridcolor\":\"white\",\"linecolor\":\"white\",\"ticks\":\"\",\"title\":{\"standoff\":15},\"zerolinecolor\":\"white\",\"automargin\":true,\"zerolinewidth\":2},\"scene\":{\"xaxis\":{\"backgroundcolor\":\"#E5ECF6\",\"gridcolor\":\"white\",\"linecolor\":\"white\",\"showbackground\":true,\"ticks\":\"\",\"zerolinecolor\":\"white\",\"gridwidth\":2},\"yaxis\":{\"backgroundcolor\":\"#E5ECF6\",\"gridcolor\":\"white\",\"linecolor\":\"white\",\"showbackground\":true,\"ticks\":\"\",\"zerolinecolor\":\"white\",\"gridwidth\":2},\"zaxis\":{\"backgroundcolor\":\"#E5ECF6\",\"gridcolor\":\"white\",\"linecolor\":\"white\",\"showbackground\":true,\"ticks\":\"\",\"zerolinecolor\":\"white\",\"gridwidth\":2}},\"shapedefaults\":{\"line\":{\"color\":\"#2a3f5f\"}},\"annotationdefaults\":{\"arrowcolor\":\"#2a3f5f\",\"arrowhead\":0,\"arrowwidth\":1},\"geo\":{\"bgcolor\":\"white\",\"landcolor\":\"#E5ECF6\",\"subunitcolor\":\"white\",\"showland\":true,\"showlakes\":true,\"lakecolor\":\"white\"},\"title\":{\"x\":0.05},\"mapbox\":{\"style\":\"light\"}}},\"xaxis\":{\"anchor\":\"y\",\"domain\":[0.0,1.0]},\"yaxis\":{\"anchor\":\"x\",\"domain\":[0.0,1.0]},\"margin\":{\"t\":60}},                        {\"responsive\": true}                    ).then(function(){\n",
              "                            \n",
              "var gd = document.getElementById('0d970d8f-7db2-40dc-bb44-f15dad76d84f');\n",
              "var x = new MutationObserver(function (mutations, observer) {{\n",
              "        var display = window.getComputedStyle(gd).display;\n",
              "        if (!display || display === 'none') {{\n",
              "            console.log([gd, 'removed!']);\n",
              "            Plotly.purge(gd);\n",
              "            observer.disconnect();\n",
              "        }}\n",
              "}});\n",
              "\n",
              "// Listen for the removal of the full notebook cells\n",
              "var notebookContainer = gd.closest('#notebook-container');\n",
              "if (notebookContainer) {{\n",
              "    x.observe(notebookContainer, {childList: true});\n",
              "}}\n",
              "\n",
              "// Listen for the clearing of the current output cell\n",
              "var outputEl = gd.closest('.output');\n",
              "if (outputEl) {{\n",
              "    x.observe(outputEl, {childList: true});\n",
              "}}\n",
              "\n",
              "                        })                };                            </script>        </div>\n",
              "</body>\n",
              "</html>"
            ]
          },
          "metadata": {}
        }
      ],
      "source": [
        "import plotly.express as px\n",
        "import math\n",
        "import cv2\n",
        "\n",
        "SRC_IMAGE = 'sample-3.jpg' # Image path\n",
        "MAX_DIM = 100 # Set maximum width/height of the image\n",
        "\n",
        "img = cv2.imread(SRC_IMAGE)\n",
        "print('Original Dimensions (Height,Width,Colors):', img.shape)\n",
        "\n",
        "# image dimensions order: Height, Width, Depth\n",
        "width = 0\n",
        "height = 0\n",
        "if img.shape[1] > MAX_DIM or img.shape[0] > MAX_DIM:\n",
        "  if img.shape[1] > img.shape[0]:\n",
        "    # Width > Height\n",
        "    width = MAX_DIM\n",
        "    height = math.floor(width / img.shape[1] * img.shape[0])\n",
        "  else:\n",
        "    # Height >= Width\n",
        "    height = MAX_DIM\n",
        "    width = math.floor(height / img.shape[0] * img.shape[1])\n",
        "\n",
        "  dim = (width, height)\n",
        "\n",
        "  # downscale/compress image\n",
        "  img = cv2.resize(img, dim, interpolation = cv2.INTER_AREA)\n",
        "  print('Resized Dimensions (Height,Width,Colors):', img.shape)\n",
        "\n",
        "img = cv2.cvtColor(img, cv2.COLOR_BGR2RGB)\n",
        "\n",
        "fig = px.imshow(img)\n",
        "fig.show()"
      ]
    },
    {
      "cell_type": "code",
      "source": [
        "from sklearn.cluster import KMeans\n",
        "\n",
        "class DominantColors:\n",
        "\n",
        "  CLUSTERS = None\n",
        "  MAX_DIM = None\n",
        "  IMAGE = None\n",
        "  COLORS = None\n",
        "  LABELS = None\n",
        "\n",
        "  def __init__(self, image, clusters=7, max_dim=500):\n",
        "    self.CLUSTERS = clusters\n",
        "    self.IMAGE = image\n",
        "    self.MAX_DIM = max_dim\n",
        "\n",
        "  def dominantColors(self):\n",
        "    img = cv2.imread(self.IMAGE)\n",
        "\n",
        "    # Downscale/resize image\n",
        "    # image dimensions order: Height, Width, Depth\n",
        "    if img.shape[1] > MAX_DIM or img.shape[0] > MAX_DIM:\n",
        "      if img.shape[1] > img.shape[0]:\n",
        "        # Width > Height\n",
        "        width = MAX_DIM\n",
        "        height = math.floor(width / img.shape[1] * img.shape[0])\n",
        "      else:\n",
        "        # Height >= Width\n",
        "        height = MAX_DIM\n",
        "        width = math.floor(height / img.shape[0] * img.shape[1])\n",
        "\n",
        "      dim = (width, height)\n",
        "      img = cv2.resize(img, dim, interpolation = cv2.INTER_AREA)\n",
        "\n",
        "    img = cv2.cvtColor(img, cv2.COLOR_BGR2RGB)\n",
        "\n",
        "    # reshaping to a list of pixel [r,g,b] values\n",
        "    img = img.reshape((img.shape[1] * img.shape[0], 3)) # Width * Height, 3\n",
        "    self.IMAGE = img\n",
        "\n",
        "    # using k-means to cluster pixels\n",
        "    kmeans = KMeans(n_clusters = self.CLUSTERS, n_init='auto')\n",
        "    kmeans.fit(img)\n",
        "\n",
        "    # cluster centers are dominant colors\n",
        "    self.COLORS = kmeans.cluster_centers_.astype(int)\n",
        "\n",
        "    # save cluster labels for each pixel\n",
        "    self.LABELS = kmeans.labels_\n",
        "\n",
        "    return self.COLORS\n",
        "\n",
        "  def rgb_to_hex(self, rgb):\n",
        "    return '#{:02x}{:02x}{:02x}'.format(rgb[0], rgb[1], rgb[2])\n",
        "\n",
        "  def plotClusters(self):\n",
        "    X, Y, Z = zip(*self.IMAGE) # convert pixels into [Reds, Greens, Blues] array\n",
        "\n",
        "    Colors = []\n",
        "    for label in self.LABELS:\n",
        "      Colors.append(self.rgb_to_hex(self.COLORS[label]))\n",
        "\n",
        "    fig = px.scatter_3d(x=X, y=Y, z=Z, color=Colors,\n",
        "                        color_discrete_map=dict(zip(Colors, Colors)),\n",
        "                        labels={\n",
        "                            'x': 'Reds',\n",
        "                            'y': 'Greens',\n",
        "                            'z': 'Blues',\n",
        "                        },\n",
        "                        title='Dominant colors clusters')\n",
        "    fig.show()"
      ],
      "metadata": {
        "id": "m0bAa3sYJZw6"
      },
      "execution_count": null,
      "outputs": []
    },
    {
      "cell_type": "code",
      "source": [
        "dc = DominantColors(SRC_IMAGE)\n",
        "colors = dc.dominantColors()\n",
        "hex_colors = []\n",
        "for c in colors:\n",
        "  hex_colors.append(dc.rgb_to_hex(c))\n",
        "print(colors)\n",
        "print(hex_colors)\n",
        "dc.plotClusters()"
      ],
      "metadata": {
        "colab": {
          "base_uri": "https://localhost:8080/",
          "height": 701
        },
        "id": "0f8vunlWLwDV",
        "outputId": "d089697f-380d-4f3b-85db-9c61819b5a5a"
      },
      "execution_count": null,
      "outputs": [
        {
          "output_type": "stream",
          "name": "stdout",
          "text": [
            "[[ 59  97  29]\n",
            " [ 13  24  15]\n",
            " [ 42  70  30]\n",
            " [ 76 128  28]\n",
            " [ 25  49  24]\n",
            " [ 49  96  87]\n",
            " [103 159  48]]\n",
            "['#3b611d', '#0d180f', '#2a461e', '#4c801c', '#193118', '#316057', '#679f30']\n"
          ]
        },
        {
          "output_type": "display_data",
          "data": {
            "text/html": [
              "<html>\n",
              "<head><meta charset=\"utf-8\" /></head>\n",
              "<body>\n",
              "    <div>            <script src=\"https://cdnjs.cloudflare.com/ajax/libs/mathjax/2.7.5/MathJax.js?config=TeX-AMS-MML_SVG\"></script><script type=\"text/javascript\">if (window.MathJax && window.MathJax.Hub && window.MathJax.Hub.Config) {window.MathJax.Hub.Config({SVG: {font: \"STIX-Web\"}});}</script>                <script type=\"text/javascript\">window.PlotlyConfig = {MathJaxConfig: 'local'};</script>\n",
              "        <script charset=\"utf-8\" src=\"https://cdn.plot.ly/plotly-2.24.1.min.js\"></script>                <div id=\"a20c50ef-bd9d-475b-a89e-9c3c49a5d961\" class=\"plotly-graph-div\" style=\"height:525px; width:100%;\"></div>            <script type=\"text/javascript\">                                    window.PLOTLYENV=window.PLOTLYENV || {};                                    if (document.getElementById(\"a20c50ef-bd9d-475b-a89e-9c3c49a5d961\")) {                    Plotly.newPlot(                        \"a20c50ef-bd9d-475b-a89e-9c3c49a5d961\",                        [{\"hovertemplate\":\"color=#193118\\u003cbr\\u003eReds=%{x}\\u003cbr\\u003eGreens=%{y}\\u003cbr\\u003eBlues=%{z}\\u003cextra\\u003e\\u003c\\u002fextra\\u003e\",\"legendgroup\":\"#193118\",\"marker\":{\"color\":\"#193118\",\"symbol\":\"circle\"},\"mode\":\"markers\",\"name\":\"#193118\",\"scene\":\"scene\",\"showlegend\":true,\"x\":[21,26,34,37,39,29,28,27,28,34,26,41,42,42,44,38,39,26,34,17,30,24,25,31,41,38,29,34,39,37,24,26,30,38,30,33,31,43,40,29,36,30,24,22,24,32,36,40,33,42,31,28,29,27,29,35,33,30,30,34,26,36,33,42,28,16,29,19,42,29,25,22,27,34,30,28,31,33,40,38,28,29,22,27,23,27,26,20,15,19,21,29,34,30,42,40,28,27,23,34,32,32,37,43,35,29,36,36,33,25,27,20,25,30,26,34,39,26,19,29,28,42,40,44,27,29,41,38,27,33,31,35,37,16,16,26,17,20,21,15,24,39,27,28,27,30,37,26,31,30,28,39,24,30,21,27,27,39,20,30,31,34,30,31,27,27,28,40,35,40,41,18,24,22,20,22,26,37,19,16,14,34,27,29,31,26,33,28,30,38,42,37,28,32,14,22,15,12,12,32,28,28,35,29,26,33,30,31,26,31,28,38,27,36,42,34,32,36,39,28,28,31,30,23,30,38,21,27,30,30,28,29,30,31,24,39,19,37,27,30,20,21,26,23,31,35,40,20,36,35,32,34,30,32,33,28,30,35,33,15,32,25,32,17,29,39,26,29,36,36,32,28,31,32,30,29,19,33,28,18,19,20,27,23,37,26,33,29,27,30,28,29,23,31,27,22,21,21,26,27,21,22,30,33,29,22,14,18,25,24,25,31,27,26,29,32,25,28,28,25,30,26,30,22,36,32,22,22,21,18,21,25,23,28,27,29,25,28,27,28,30,30,28,23,28,26,23,23,30,25,21,26,30,24,23,25,24,28,26,24,33,23,33,30,27,28,26,28,30,26,31,21,27,26,21,17,27,17,34,36,19,15,22,30,20,27,34,19,40,36,34,31,25,31,25,23,28,30,31,28,27,28,28,25,30,26,21,17,21,30,28,29,20,25,26,26,28,38,25,33,31,23,34,26,24,25,27,22,30,27,27,28,26,24,25,24,26,26,21,17,15,18,29,29,23,28,30,30,25,22,22,35,26,38,15,29,31,25,30,26,26,21,26,37,23,23,31,29,27,29,26,26,26,28,24,22,22,26,21,14,12,16,17,20,29,20,28,30,28,31,23,26,19,18,31,18,31,29,27,28,28,20,31,29,30,31,29,30,26,25,26,23,19,22,26,16,24,23,21,30,25,29,33,30,32,28,22,14,14,21,30,31,30,19,27,28,26,29,30,35,21,29,26,29,29,29,28,25,23,21,16,15,12,23,14,21,16,25,23,28,32,31,31,24,18,35,24,23,20,27,34,34,27,31,24,14,32,24,29,30,30,26,25,21,20,18,14,15,14,10,20,25,21,30,26,33,27,26,17,29,29,19,23,20,27,22,18,34,23,25,22,29,29,23,28,28,27,23,20,28,25,16,12,24,17,19,19,21,31,22,15,30,34,28,28,22,26,28,33,24,23,24,23,24,28,24,24,24,28,28,29,14,14,23,25,27,33,26,24,26,24,30,31,25,24,29,32,38,27,31,30,37,26,19,19,26,25,28,23,29,20,16,23,21,17,28,27,31,29,34,32,23,24,31,39,22,31,23,23,29,31,24,24,20,21,18,23,21,19,19,20,22,22,25,26,24,22,15,15,19,30,25,22,25,27,33,16,17,25,27,29,24,19,23,21,21,19,14,17,16,23,16,23,24,18,18,27,18,25,33,31,22,26,31,37,32,26,13,16,18,21,21,23,22,19,16,26,23,20,13,29,17,29,25,29,23,31,24,25,23,25,35,28,35,21,22,23,20,31,12,14,20,18,20,21,21,23,26,18,13,20,19,21,17,25,26,28,26,20,34,30,25,36,30,23,18,18,24,24,20,21,24,22,16,26,23,31,34,34,24,21,28,25,28,32,24,27,26,23,14,19,19,25,20,20,22,25,17,14,25,31,21,36,27,24,25,29,17,36,37,28,29,28,13,21,13,17,18,21,20,25,25,18,15,15,21,21,35,29,32,32,27,22,36,27,15,27,19,25,23,9,17,16,18,20,27,16,18,23,21,29,24,16,39,28,33,27,23,26,12,14,16,19,14,16,19,17,35,21,34,35,25,33,26,24,18,17,13,9,34,32,26,16,19,11,23,15,17,34,32,34,34,26,24,11,11,10,9,28,22,19,10,14,20,18,12,11,24,16,23,27,30,30,23,31,25,25,11,14,13,30,21,25,18,21,11,17,20,24,24,32,34,25,24,32,12,12,11,15,30,25,15,11,15,19,23,19,15,32,34,25,10,28,22,25,23,28,10,6,19,11,21,12,21,20,23,22,26,28,29,29,27,20,32,26,26,16,9,13,9,22,9,10,14,26,34,29,22,30,23,20,9,11,13,12,10,14,18,11,19,21,33,19,26,36,30,34,37,25,19,24,18,20,13,12,10,15,21,23,27,29,31,25,35,30,39,23,36,26,14,15,15,28,22,26,18,17,10,20,19,11,15,20,26,31,26,27,38,25,31,38,29,37,38,29,27,14,26,28,12,27,28,29,27,32,26,30,37,27,26,36,26,26,31,34,24,20,23,24,18,18,21,30,21,23,25,32,27,27,37,37,25,28,34,28,27,27,27,24,21,25,33,23,35,33,32,32,32,36,34,25,25,26,24,31,27,26,33,31,23,15,39,29,38,34,37,28,27,23,25,24,24,25,31,31,34,24,35,25,31,35,24,19,24,41,36,33,21,33,30,33,35,32,27,33,29,26,27,29,25,31,27,33,35,24,11,25,38,30,34,29,22,20,28,34,34,28,21,24,36,21,26,24,26,23,14,20,15,17,19,16,41,35,27,24,21,23,26,25,30,30,29,26,29,29,28,9,23,12,39,31,34,41,29,29,26,32,28,32,34,35,25,28,25,26,30,23,24,21,22,28,32,31,29,35,34,32,25,12,18,17,14,15,12,15,26,41,22,32,34,29,37,33,31,30,22,37,29,30,26,28,29,27,24,22,25,26,31,26,25,20,14,22,16,15,21,41,32,42,38,23,29,29,35,31,32,30,22,25,36,33,24,26,26,29,33,29,29,28,28,27,26,34,35,22,26,17,14,11,17,11,21,17,12,34,30,32,28,29,30,27,28,28,27,26,24,26,29,34,25,24,28,24,27,29,37,33,28,27,31,18,22,19,15,11],\"y\":[45,56,42,46,51,41,39,43,43,53,33,51,56,56,52,46,47,39,50,47,59,54,55,43,55,55,42,39,48,52,36,39,40,55,40,42,40,54,53,41,50,49,38,50,51,41,50,56,46,53,40,38,50,48,47,54,46,40,41,46,33,45,42,50,33,47,61,42,52,51,52,40,38,44,40,36,38,41,50,45,36,42,42,52,44,61,41,48,44,46,45,58,52,38,57,54,48,43,48,56,51,44,50,52,44,37,42,43,42,35,40,44,52,59,60,41,53,45,36,47,53,52,53,54,35,38,48,46,38,46,40,50,55,56,46,36,48,52,38,37,41,55,48,51,53,52,47,36,42,43,36,54,45,51,39,49,44,50,56,46,42,50,49,54,50,49,47,54,49,51,53,34,34,48,49,47,67,59,53,46,37,53,40,41,43,37,43,51,55,53,57,52,44,49,46,53,71,66,66,62,60,46,57,44,43,50,43,43,37,41,36,55,51,55,55,44,41,51,54,40,47,52,63,60,48,52,43,46,44,42,41,42,46,48,38,56,38,52,34,46,50,42,43,45,51,45,50,41,52,57,51,49,45,54,54,45,47,53,50,41,48,35,40,49,51,54,41,48,59,59,52,48,53,54,54,56,42,53,37,44,57,46,41,41,59,50,60,54,55,58,53,55,48,56,54,37,45,50,59,53,39,39,62,44,54,47,42,46,50,69,48,57,40,54,57,61,52,59,55,52,57,53,55,48,56,58,39,47,45,42,52,65,65,55,45,45,52,57,59,59,63,62,60,54,59,57,53,49,51,43,43,42,59,64,55,42,48,62,66,55,58,48,56,50,47,53,53,57,62,59,65,50,59,58,52,48,57,48,62,59,49,48,60,62,41,43,59,44,57,54,47,54,52,57,42,41,47,48,57,57,55,58,60,56,62,57,51,47,52,62,60,62,51,56,55,59,49,54,59,54,55,51,60,42,39,41,43,44,61,59,60,60,58,55,56,56,57,58,53,47,47,53,64,63,47,52,59,63,46,40,40,56,37,53,49,56,64,59,55,46,41,38,39,58,44,46,63,63,62,61,56,58,59,60,56,54,52,58,57,49,43,46,39,42,54,49,55,58,46,52,39,47,47,47,54,50,57,48,48,47,56,51,66,63,64,63,62,64,63,60,59,56,55,59,59,41,50,46,40,52,49,56,54,52,49,41,56,71,62,45,51,53,44,41,48,43,43,49,53,59,52,63,58,61,60,65,65,58,54,54,50,48,44,54,43,45,39,46,42,55,62,64,66,44,41,54,64,60,47,50,54,59,47,49,40,45,59,59,62,62,61,57,58,56,52,47,44,46,44,44,55,60,48,57,53,59,51,54,44,57,50,45,54,40,41,48,41,59,49,40,36,48,62,59,64,63,63,59,55,66,60,46,46,57,48,52,45,42,60,40,38,48,57,54,46,45,53,42,57,59,58,57,58,60,64,59,58,60,65,66,67,43,47,54,59,58,57,53,46,49,48,55,53,43,40,37,48,57,48,57,48,55,55,54,52,59,59,65,58,66,56,46,53,50,42,50,51,50,48,53,54,39,36,37,56,40,57,44,48,60,60,44,40,39,57,48,53,50,49,52,52,54,55,62,65,64,59,49,46,51,59,53,43,44,46,51,35,41,42,59,59,53,43,57,52,53,51,45,49,46,52,47,59,61,52,53,63,52,52,57,57,42,45,37,56,60,55,37,44,52,59,55,57,58,52,46,62,63,56,44,65,42,57,47,53,41,46,39,41,35,38,51,37,56,43,47,42,37,48,36,40,54,55,60,60,56,63,60,49,44,52,51,55,44,45,42,43,50,32,52,46,43,57,61,46,49,49,58,58,51,54,62,57,48,61,53,44,50,45,54,55,44,41,49,60,48,43,40,48,41,49,50,59,52,51,57,63,51,46,55,58,41,56,41,38,38,49,35,58,55,47,59,47,35,59,37,47,49,56,57,59,62,50,44,45,51,43,54,45,50,56,39,43,52,44,39,55,46,51,57,37,51,50,51,52,65,52,47,52,44,51,53,53,54,65,57,43,47,57,39,48,51,59,48,50,47,45,55,40,51,54,35,53,54,39,39,50,52,42,50,49,42,47,54,44,62,44,46,57,53,48,48,43,39,37,34,38,36,45,48,47,37,42,54,50,39,42,58,42,46,50,53,46,49,50,45,42,45,36,36,55,39,59,51,54,42,49,60,49,35,61,61,50,39,59,46,42,39,38,44,39,40,38,53,55,59,58,38,49,55,50,42,53,47,44,40,57,42,38,55,45,66,42,41,37,34,38,48,52,48,54,56,40,54,44,55,40,39,40,38,59,39,44,40,49,57,47,38,48,45,36,46,42,43,41,45,52,58,46,56,46,58,45,59,55,48,50,48,51,47,50,44,53,46,51,42,46,56,54,56,45,58,45,55,42,56,35,47,37,37,32,36,45,35,58,35,50,44,42,45,36,44,53,55,52,43,44,54,35,46,52,41,57,48,50,40,46,49,54,35,55,51,44,45,58,40,50,56,40,39,48,37,35,44,55,40,37,41,56,39,36,41,47,45,41,42,55,40,36,50,58,39,53,53,36,56,42,41,39,40,43,52,39,57,58,50,53,53,54,54,40,38,44,44,53,48,42,56,51,46,42,48,36,48,41,47,44,46,41,38,37,32,38,48,43,59,42,62,47,45,62,57,50,44,48,45,38,36,49,43,49,59,47,39,49,52,41,42,47,51,49,48,55,55,61,40,35,45,38,40,40,35,37,44,46,57,42,44,46,61,45,46,37,43,45,39,51,44,51,49,36,48,42,38,34,44,45,46,45,49,51,45,42,45,50,59,39,51,40,48,36,42,52,43,45,36,45,39,58,58,58,48,50,47,48,53,42,47,43,45,53,53,56,46,57,61,52,57,31,48,50,34,34,36,45,58,53,34,42,44,40,52,49,58,52,43,60,51,52,48,50,52,50,46,44,40,45,59,51,56,52,42,58,45,45,55,54,39,53,53,33,41,44,47,44,48,52,42,40,53,52,45,47,48,52,56,52,52,51,50,47,44,55,58,52,56,45,38,40,47,38,55,40,36,40,49,49,45,51,47,40,44,49,49,48,46,49,52,57,47,47,49,41,43,51,58,54,52,48,55,44,59,57,45,36],\"z\":[22,30,12,17,20,15,15,24,28,22,22,20,19,18,29,23,21,12,13,21,33,28,25,8,15,19,11,12,14,34,24,25,23,23,24,18,13,20,19,9,15,18,23,25,26,13,13,19,13,16,12,14,39,44,38,43,34,29,25,25,22,17,19,31,24,28,35,30,14,48,48,38,20,22,20,23,19,19,17,28,20,15,12,19,21,22,21,23,19,22,35,29,15,13,15,16,48,42,41,41,25,24,23,24,20,16,27,27,17,22,13,11,14,22,41,16,13,43,37,46,39,25,23,20,15,14,31,27,25,18,25,14,18,16,12,22,50,31,32,39,20,27,47,49,48,34,20,14,14,22,19,26,12,12,13,21,20,21,51,17,21,17,19,54,49,46,26,19,15,14,15,35,24,19,16,9,17,16,53,48,35,23,30,21,17,16,17,50,54,15,13,30,32,27,11,14,15,13,11,19,13,19,26,22,26,20,22,20,19,21,18,22,50,27,19,16,11,27,24,20,35,23,17,15,22,22,47,17,16,21,18,22,18,17,18,24,22,23,23,23,12,10,14,16,21,23,25,36,25,20,18,21,20,21,18,16,19,19,25,32,21,20,17,13,14,23,17,17,19,19,20,19,18,18,20,16,28,25,20,24,19,9,9,16,21,18,18,18,18,19,18,17,17,22,16,26,34,42,53,31,20,18,11,24,32,37,33,10,15,17,9,22,17,15,17,17,18,17,17,15,17,17,20,16,21,35,21,12,11,10,41,24,16,20,17,18,15,18,16,18,16,18,20,14,17,18,16,14,16,19,21,16,25,11,7,9,36,25,16,12,19,15,19,24,21,17,16,18,19,17,15,16,18,18,14,14,21,14,18,20,23,28,30,30,21,16,28,4,21,16,23,31,16,22,16,16,17,21,18,16,15,17,17,14,18,18,15,13,15,18,16,18,14,15,32,22,26,18,13,24,17,11,22,18,17,17,18,13,15,15,17,20,16,17,17,15,18,16,14,14,15,14,17,15,22,30,16,20,24,19,17,16,14,22,20,12,19,19,12,15,17,17,21,26,13,11,16,15,13,18,18,16,17,18,17,13,17,18,15,14,15,18,18,27,29,10,24,23,21,20,13,20,26,24,19,12,19,21,17,20,17,14,14,14,19,19,17,18,16,17,15,15,14,16,17,20,24,26,21,26,27,31,27,28,24,14,37,15,17,14,23,22,18,13,17,22,20,23,20,25,14,19,17,19,19,17,16,17,14,13,13,14,15,23,17,27,21,27,24,33,21,11,11,21,32,19,21,23,16,18,24,25,16,20,20,19,31,19,19,18,20,18,17,15,16,15,11,13,18,16,21,27,21,31,27,32,24,11,11,15,17,23,29,43,20,16,14,18,17,18,24,30,27,18,21,20,18,15,12,17,18,20,18,26,21,19,14,9,11,16,25,24,18,21,21,16,20,29,33,26,25,24,22,16,19,19,17,17,21,19,16,19,21,25,27,29,36,31,25,26,26,28,27,18,21,25,20,18,21,21,45,28,16,29,26,31,23,20,16,18,10,20,26,24,19,30,31,31,29,34,34,22,20,25,19,18,27,55,50,21,18,34,32,33,36,27,27,25,21,22,18,19,18,15,16,17,18,16,19,21,34,29,23,27,27,33,47,52,17,22,24,19,13,39,33,27,24,19,18,15,19,16,17,14,15,12,19,15,27,34,33,26,27,27,18,28,20,32,38,38,41,36,29,27,22,15,21,16,16,13,20,16,29,27,32,24,31,24,26,28,28,20,17,16,17,12,35,26,40,33,43,48,46,48,38,31,27,27,18,13,16,13,27,19,26,26,28,51,32,20,16,15,26,17,15,45,43,42,40,31,25,27,26,22,16,25,32,29,19,58,59,14,14,15,15,14,29,30,49,41,48,42,45,36,32,28,27,22,17,27,35,21,35,19,13,17,50,45,26,26,20,16,15,36,60,39,43,44,44,40,29,26,19,22,21,25,24,35,26,15,29,29,44,30,13,38,51,44,55,60,38,49,44,33,25,26,20,26,29,26,23,53,75,27,26,13,12,46,62,41,48,47,53,37,24,22,23,36,22,34,36,27,11,19,18,38,68,80,63,19,20,14,56,54,43,52,19,23,37,33,32,34,19,18,38,47,52,46,17,50,48,44,49,57,52,37,18,25,20,27,30,31,29,19,18,19,19,49,35,33,12,41,58,59,59,40,41,41,29,26,18,22,18,16,23,53,54,53,30,17,14,41,48,60,57,46,31,26,36,18,17,53,28,26,26,14,15,48,47,53,46,33,32,31,22,27,18,19,21,20,25,26,16,28,16,56,40,50,51,46,63,44,34,20,20,28,14,16,17,47,33,50,51,57,53,56,63,60,46,44,20,17,24,28,25,21,28,25,52,37,60,48,71,60,67,57,55,58,53,20,16,27,22,26,22,27,22,27,21,27,41,33,34,27,49,33,68,65,54,50,48,61,54,16,16,21,18,30,19,25,28,24,25,31,43,31,62,59,59,45,48,19,14,22,26,20,25,32,22,22,26,17,21,24,17,18,26,38,62,44,41,29,31,14,19,22,19,19,19,27,20,33,51,37,35,19,30,24,12,20,13,18,14,18,16,26,54,46,24,22,22,13,18,12,15,17,17,20,27,24,30,27,21,39,26,27,42,47,34,35,32,32,24,22,23,18,12,18,8,15,16,38,40,28,30,27,31,31,42,38,38,22,22,17,18,14,13,14,19,10,14,13,25,26,46,30,20,26,21,24,25,30,25,25,25,18,15,4,7,15,9,10,14,8,12,37,44,42,50,45,28,29,27,30,30,8,10,10,9,12,10,15,17,16,29,38,34,39,39,29,21,25,32,29,31,25,31,21,18,17,17,7,12,9,10,13,11,7,7,7,12,15,16,20,15,15,14,45,48,63,62,35,37,33,41,46,33,27,31,29,27,32,27,11,14,12,18,14,11,7,9,10,9,9,9,10,11,32,39,46,48,38,58,44,44,56,29,25,28,30,27,30,29,31,26,24,10,9,17,21,18,10,11,9,10,14,10,11,10,12,14,17,16,20,13,15,43,33,44,45,28,53,39,40,27,53,27,15,9,18,21,16,10,11,10,7,8,10,15,9,7,13,9,14,15,19,17,16,15,19,48,62,55,44,40],\"type\":\"scatter3d\"},{\"hovertemplate\":\"color=#2a461e\\u003cbr\\u003eReds=%{x}\\u003cbr\\u003eGreens=%{y}\\u003cbr\\u003eBlues=%{z}\\u003cextra\\u003e\\u003c\\u002fextra\\u003e\",\"legendgroup\":\"#2a461e\",\"marker\":{\"color\":\"#2a461e\",\"symbol\":\"circle\"},\"mode\":\"markers\",\"name\":\"#2a461e\",\"scene\":\"scene\",\"showlegend\":true,\"x\":[37,34,41,44,47,44,42,35,39,39,38,49,44,60,55,56,64,58,52,48,41,50,53,53,50,45,50,45,36,47,36,48,52,54,57,58,46,48,55,59,48,60,54,53,44,30,36,45,49,50,46,52,32,40,42,44,44,39,37,47,56,42,57,52,48,59,60,46,60,46,49,46,42,29,34,44,49,50,55,45,45,48,45,39,37,37,33,39,38,38,39,48,51,47,51,52,57,61,56,60,57,52,32,29,26,38,52,50,57,55,58,46,47,54,38,36,39,46,44,44,53,51,63,56,53,51,55,50,57,53,33,28,30,25,33,32,44,45,50,49,38,36,41,52,50,48,60,59,46,46,62,51,58,42,27,37,21,39,42,47,54,45,54,40,38,38,39,35,33,58,44,45,60,54,61,60,58,47,33,33,36,37,28,43,46,55,36,40,51,52,49,52,48,53,41,48,41,50,44,28,32,51,44,41,42,28,46,52,56,34,39,35,38,52,44,56,51,48,47,53,52,57,47,59,52,38,56,38,34,23,32,32,33,42,31,45,44,25,44,48,36,38,36,48,50,56,49,49,58,41,49,55,49,37,43,33,35,37,31,40,42,40,34,27,40,45,54,51,35,33,36,36,32,31,48,47,55,42,54,43,45,55,53,57,42,38,39,46,45,40,53,52,51,36,36,36,38,32,50,47,53,57,43,52,52,45,53,46,48,32,34,40,37,35,33,42,34,48,37,50,53,40,40,37,44,37,38,31,33,54,42,41,58,46,49,34,46,42,40,46,41,41,48,56,39,41,42,36,37,43,38,44,36,30,44,31,31,25,23,27,37,30,29,50,49,52,34,32,50,36,35,32,45,40,33,45,50,53,51,44,46,36,26,26,34,32,37,37,48,38,41,37,42,41,51,37,40,42,36,44,47,48,36,45,48,58,57,38,31,45,40,32,33,42,38,47,48,53,49,54,30,32,53,46,28,30,31,40,37,35,33,32,31,44,32,38,49,32,28,47,51,40,40,35,40,37,32,24,30,32,39,36,40,45,54,47,31,37,33,44,45,40,32,34,44,46,43,39,52,36,39,42,36,51,35,33,28,34,34,34,48,53,38,32,37,32,34,33,46,49,46,53,56,27,34,42,37,20,39,32,48,35,33,30,30,31,33,38,32,33,50,39,54,36,35,31,34,46,43,29,19,33,34,48,48,40,38,42,34,31,35,42,44,52,48,51,50,46,30,40,50,22,24,31,41,46,47,52,33,41,50,37,36,49,46,39,38,41,36,33,47,38,40,34,32,30,32,34,35,47,49,36,41,51,37,45,33,50,43,47,47,34,49,48,30,30,31,35,30,36,44,39,42,41,46,49,46,46,46,43,38,43,43,31,35,38,37,50,32,45,44,35,29,36,32,47,34,47,49,34,35,49,48,48,52,43,37,52,50,42,46,45,32,36,39,40,50,49,51,48,44,52,37,41,49,48,21,33,31,34,37,47,36,43,52,42,47,43,42,53,42,44,41,26,28,41,51,38,54,40,52,52,48,45,38,35,46,36,23,30,31,43,47,48,54,53,47,53,37,40,25,25,33,35,50,37,41,47,48,38,52,48,50,52,51,42,32,28,28,29,32,36,34,45,48,39,28,30,30,28,34,33,37,47,36,41,45,47,46,38,24,30,23,52,43,35,42,40,38,44,43,50,35,49,24,24,30,53,43,41,33,44,30,54,49,47,24,29,29,48,47,34,33,38,37,34,48,54,47,43,30,21,29,33,36,52,40,43,44,42,53,49,44,48,51,25,28,39,32,49,45,38,47,44,43,45,55,52,43,47,45,44,42,40,39,45,51,40,50,45,44,51,39,31,52,38,47,40,49,48,42,49,43,46,30,39,36,46,40,49,42,41,52,42,49,41,41,48,53,44,58,45,38,33,25,33,36,41,43,39,34,40,39,47,45,55,49,49,61,61,61,30,36,42,41,40,44,46,43,49,44,49,43,38,55,52,58,42,34,35,40,43,47,50,47,40,43,48,50,56,47,60,57,44,59,38,36,38,47,43,46,42,36,50,37,48,40,43,47,46,50,47,38,38,45,37,65,63,50,62,37,42,47,40,47,43,49,52,41,36,46,28,39,35,58,59,49,42,56,48,55,45,43,52,40,36,45,42,48,35,41,46,45,38,40,37,44,50,40,37,28,35,56,57,56,50,46,55,65,43,46,53,52,45,49,42,47,40,46,46,46,52,50,36,49,45,63,58,46,47,53,59,38,50,41,38,46,47,40,42,42,42,34,51,48,56,43,41,48,45,44,50,48,45,35,48,23,24,31,28,51,48,61,65,53,46,46,50,41,41,39,46,41,45,44,41,43,44,40,40,46,25,54,49,46,53,43,41,41,50,46,37,42,47,29,22,49,46,49,49,56,36,44,36,48,46,38,46,34,43,41,33,32],\"y\":[73,71,80,63,70,64,83,61,81,74,70,60,53,72,66,66,75,75,71,68,63,66,76,82,68,71,72,85,71,83,74,64,67,65,67,70,55,56,65,69,55,70,65,68,61,66,70,76,73,62,61,65,57,64,75,88,84,77,64,59,72,56,73,62,58,70,73,54,71,56,62,56,58,62,70,72,68,70,72,61,60,63,68,69,67,64,75,81,76,55,60,60,60,57,61,63,69,76,68,73,71,68,70,69,62,69,68,66,77,72,77,63,63,75,65,62,61,60,57,53,65,63,74,66,66,61,67,66,70,69,85,85,86,66,67,65,87,60,66,76,66,61,57,71,64,62,78,76,57,54,73,64,77,59,80,72,62,73,76,62,73,63,74,63,69,57,65,61,58,75,56,56,74,72,74,73,76,66,70,66,61,60,61,61,78,76,61,66,70,73,63,68,64,73,57,67,57,66,85,70,69,81,74,59,70,64,66,76,80,57,64,65,65,73,60,71,67,63,63,72,72,77,62,77,75,55,78,87,83,76,66,68,68,82,74,80,79,62,63,77,70,64,67,77,70,73,64,66,79,57,68,80,81,78,85,76,73,75,70,63,77,66,61,64,56,64,80,80,62,57,67,64,62,59,76,70,76,56,72,68,63,79,74,74,89,73,65,84,65,64,82,81,76,63,61,66,70,58,74,62,73,76,59,71,82,73,80,66,66,95,76,78,77,74,76,87,66,72,66,69,73,61,58,65,74,69,70,68,69,72,72,62,77,67,69,74,85,87,85,82,71,69,68,74,59,64,60,66,64,68,65,85,65,64,72,82,87,82,81,88,87,69,69,83,73,67,63,65,80,58,72,70,83,72,68,78,69,74,70,64,61,61,88,86,71,68,74,70,78,62,74,62,79,64,81,62,67,86,82,80,81,82,63,76,66,78,78,64,81,83,70,67,68,70,68,82,82,75,64,79,72,71,76,75,88,82,72,72,69,69,69,69,69,80,68,65,81,62,69,83,70,60,78,77,86,60,88,86,84,76,70,69,74,79,81,70,67,75,69,80,76,70,68,73,87,81,73,66,73,64,76,85,84,80,79,87,95,73,66,63,78,78,78,67,65,61,61,72,86,85,80,82,79,78,79,70,80,75,76,67,72,72,71,68,69,70,69,64,65,72,78,65,78,64,80,65,82,73,89,90,82,76,62,75,77,70,67,75,71,66,59,78,74,78,76,75,74,76,71,63,80,77,76,83,65,81,77,84,66,72,82,67,65,72,62,81,69,66,61,66,78,73,78,70,69,68,65,68,67,75,63,67,88,82,67,79,67,75,59,74,77,67,79,79,65,68,69,73,67,75,69,64,67,71,80,83,71,72,76,79,71,80,81,67,63,62,56,81,64,72,77,64,61,74,61,76,63,76,81,67,67,74,78,77,80,71,65,81,75,64,81,70,71,65,57,58,79,80,79,78,68,74,66,74,78,75,63,63,61,63,66,71,56,71,80,68,75,71,71,79,73,74,66,63,71,61,80,62,81,57,77,79,72,77,63,61,62,66,65,69,63,69,72,65,76,76,68,82,65,72,68,71,74,62,71,57,64,77,85,66,76,73,72,76,77,70,65,64,73,72,70,77,63,65,79,73,64,60,75,79,77,70,68,83,67,62,69,72,72,60,64,81,68,79,68,62,75,70,75,62,60,79,61,71,62,67,79,82,76,70,63,87,65,81,71,65,62,76,78,73,78,62,69,82,75,63,70,78,74,68,61,62,68,79,90,77,71,75,76,69,76,71,66,77,76,69,66,87,86,77,73,63,84,71,73,84,81,75,64,72,70,66,67,67,60,72,82,62,80,67,65,78,59,59,77,73,68,61,73,70,63,77,66,81,60,57,74,70,59,79,87,78,83,63,71,57,68,70,77,84,75,60,58,57,59,70,76,68,75,69,75,73,62,75,74,79,72,57,75,77,75,58,60,82,71,66,82,67,70,78,70,76,68,55,74,63,67,58,58,56,72,72,73,79,78,66,71,71,85,72,62,71,68,52,75,62,55,54,80,74,81,65,61,78,61,79,66,70,80,86,78,74,82,68,80,66,76,73,58,73,62,76,84,73,83,70,82,83,66,62,77,72,69,65,70,69,58,55,69,56,65,78,79,80,60,68,75,75,80,69,67,82,77,59,71,60,67,82,71,65,69,66,69,67,65,58,54,70,75,61,69,81,82,78,80,70,86,75,82,85,76,83,82,67,62,58,77,66,55,66,66,72,55,82,68,63,76,82,67,71,71,77,77,76,72,68,61,58,72,78,74,80,81,79,64,79,61,62,63,68,60,63,76,76,65,64,68,69,67,71,64,70,66,77,80,75,76,76,70,68,81,64,67,62,58,70,57,58,61,84,80,62,78,85,73,64,63,58,61,63,71,56,61,65,83,77,67,80,65,76,77,60,72],\"z\":[45,42,34,18,26,28,24,25,28,29,24,25,26,32,30,36,35,22,15,21,22,24,31,34,27,25,23,27,39,35,25,20,20,28,31,27,25,34,32,31,28,22,24,25,12,38,19,17,29,26,13,17,53,39,32,24,25,33,46,28,28,22,19,35,25,30,28,34,35,20,23,14,15,42,20,20,27,21,16,16,17,14,34,54,64,37,20,26,61,48,48,24,30,26,27,27,30,38,22,25,25,22,23,21,48,18,26,16,14,21,17,17,17,41,63,49,37,24,23,28,26,20,32,35,21,27,26,25,27,17,20,19,21,68,40,22,19,21,19,57,64,56,39,31,30,25,26,24,23,32,33,29,29,20,20,22,64,48,20,14,18,16,26,48,65,56,62,60,47,30,27,27,29,26,31,34,25,21,21,15,25,29,51,31,17,24,60,66,28,28,29,24,22,20,26,24,25,27,18,20,20,28,30,27,27,64,19,21,18,56,63,62,63,30,24,23,23,26,25,15,23,26,28,29,25,36,28,20,18,18,17,19,19,25,15,28,40,64,18,51,66,63,59,36,25,30,26,26,29,25,27,25,23,19,21,15,22,21,20,25,25,31,40,70,29,20,24,40,61,55,64,60,51,50,35,26,28,25,25,13,24,28,23,27,24,21,24,29,30,17,21,17,42,60,58,62,55,47,29,24,27,26,26,25,24,13,21,19,21,21,13,22,23,21,21,26,19,27,26,23,24,26,23,20,19,61,46,56,52,28,14,25,30,20,22,12,27,22,22,25,22,16,25,35,18,26,34,22,21,18,49,58,37,44,21,23,24,25,25,23,16,18,17,26,29,38,20,20,25,41,63,50,41,53,46,51,29,29,27,24,24,41,25,25,20,21,23,20,25,19,22,22,18,23,26,28,33,51,33,38,49,55,34,38,29,30,30,41,17,26,20,17,16,19,21,46,39,30,29,26,14,10,19,33,21,18,19,25,20,23,19,18,19,15,14,19,23,27,27,36,27,17,27,25,14,25,25,19,17,19,23,23,26,28,26,30,17,18,16,20,23,31,25,23,28,32,37,33,30,23,26,29,34,29,25,22,17,14,21,19,29,34,17,16,21,37,41,12,27,35,30,40,31,31,32,23,24,15,16,20,26,16,16,18,18,17,19,42,18,12,36,26,29,22,43,40,51,31,30,19,16,17,22,34,39,31,29,28,16,21,34,22,29,34,30,32,30,25,37,48,42,14,15,20,28,22,42,45,30,34,34,39,23,31,30,30,28,26,27,20,40,36,29,22,20,19,33,35,36,31,32,29,38,37,29,44,36,31,29,39,20,21,56,49,41,26,20,25,22,22,18,42,16,20,21,27,31,29,55,47,44,58,59,20,36,41,37,23,25,59,60,55,47,22,35,45,21,28,35,24,21,50,28,26,24,20,19,32,38,28,56,55,20,36,39,41,22,23,37,33,33,35,18,21,53,60,64,37,35,38,41,49,38,38,35,33,34,33,31,36,23,21,48,60,31,22,16,13,51,34,35,31,30,18,28,28,33,20,45,29,33,42,47,34,34,31,33,32,17,24,54,48,27,35,50,38,13,27,22,23,38,35,35,36,34,23,67,68,58,48,30,31,23,32,18,20,68,61,52,49,29,28,21,20,19,26,30,30,26,22,51,54,43,33,26,26,19,17,40,29,28,30,23,22,65,45,54,30,21,19,22,38,28,32,34,32,60,54,46,30,25,22,21,20,21,37,31,33,24,23,64,62,50,47,43,31,23,21,22,18,33,32,30,32,17,66,45,50,40,32,25,24,24,18,19,21,35,34,27,29,29,27,19,19,30,25,28,25,32,31,30,33,19,57,32,31,30,28,30,27,27,32,26,23,54,37,42,27,19,20,34,30,33,29,31,32,21,30,35,59,37,48,55,52,66,40,26,24,18,24,26,34,21,25,20,34,29,32,39,44,42,56,57,37,26,18,29,24,17,33,29,32,31,44,56,33,39,37,51,53,19,26,30,24,19,21,21,31,44,48,32,39,33,31,40,54,45,40,25,24,21,25,21,28,17,21,16,23,22,19,32,36,48,45,40,43,42,37,36,42,22,28,22,20,23,19,23,26,19,17,33,64,44,47,32,37,31,26,49,36,41,18,21,33,25,17,22,19,21,17,18,21,24,25,13,20,28,23,20,27,67,46,29,35,37,34,32,46,44,45,34,30,30,17,21,27,22,10,20,16,22,26,25,50,35,29,37,36,33,39,38,43,37,29,20,21,28,20,18,18,24,24,54,53,51,47,41,39,28,20,16,26,22,18,16,16,62,68,63,57,35,37,38,42,32,46,39,34,23,15,21,24,18,20,16,18,22,19,16,27,32,70,41,31,35,40,39,40,21,21,16,15,30,41,63,55,32,34,34,42,48,72,34,16,21,16,21,17,27,40,44,42,60],\"type\":\"scatter3d\"},{\"hovertemplate\":\"color=#3b611d\\u003cbr\\u003eReds=%{x}\\u003cbr\\u003eGreens=%{y}\\u003cbr\\u003eBlues=%{z}\\u003cextra\\u003e\\u003c\\u002fextra\\u003e\",\"legendgroup\":\"#3b611d\",\"marker\":{\"color\":\"#3b611d\",\"symbol\":\"circle\"},\"mode\":\"markers\",\"name\":\"#3b611d\",\"scene\":\"scene\",\"showlegend\":true,\"x\":[59,53,59,60,55,55,50,44,47,58,60,48,72,76,79,72,79,70,59,53,51,77,61,48,44,44,68,81,53,57,56,68,53,71,69,66,76,72,51,64,63,72,63,64,62,79,68,76,71,62,66,52,73,61,81,72,67,73,61,55,52,60,76,69,75,71,69,70,58,57,66,64,71,68,69,60,65,70,44,59,56,56,60,67,72,64,65,74,65,69,66,72,79,72,72,78,60,64,69,47,43,54,54,58,60,59,61,67,71,79,67,65,58,62,72,71,64,75,63,67,60,69,55,43,45,52,48,49,49,65,55,61,68,60,57,63,72,60,59,59,72,66,67,60,61,63,66,55,40,44,52,56,58,67,61,60,71,64,63,75,60,57,80,69,70,77,76,73,57,49,55,51,44,44,44,45,48,55,47,63,65,69,72,62,56,61,72,59,73,60,75,65,67,65,61,65,52,62,56,47,42,40,34,39,41,41,37,54,57,47,52,50,59,62,66,57,69,71,70,65,70,69,61,73,56,52,45,54,44,33,36,42,51,43,41,51,49,59,59,61,58,59,71,63,69,72,66,54,61,60,61,67,76,67,68,63,63,71,66,57,68,49,41,43,39,39,39,47,48,45,45,61,64,67,62,52,62,64,65,68,72,70,67,59,65,66,70,60,56,58,67,62,60,73,38,41,51,50,44,48,52,51,72,68,55,67,67,59,55,56,50,55,69,60,59,66,63,71,64,45,32,38,46,46,43,42,72,50,65,60,62,70,59,62,64,63,71,71,61,67,55,51,48,36,34,37,48,49,40,42,43,39,72,61,56,56,59,56,53,67,63,58,65,58,50,37,38,42,46,41,34,49,46,35,66,67,60,49,53,65,61,59,54,61,70,58,54,63,44,36,44,36,42,39,50,45,44,56,71,69,61,38,66,51,49,44,45,40,47,39,50,37,62,67,75,62,49,45,62,49,41,47,35,30,45,74,59,51,53,67,70,68,54,52,55,49,57,51,46,47,42,65,60,64,58,67,63,60,48,52,43,63,64,45,59,58,69,72,59,64,65,48,51,49,64,51,62,56,53,55,51,61,62,54,70,67,60,67,66,68,50,52,47,63,68,64,67,57,57,57,57,72,63,62,57,50,64,65,65,63,58,58,67,64,56,58,63,55,57,56,63,60,69,52,73,58,54,62,59,66,70,65,60,62,64,65,65,67,69,56,58,58,59,66,54,62,71,53,57,68,66,58,62,69,72,60,56,62,62,54,53,61,67,56,68,55,59,58,58,57,68,69,63,65,65,62,53,64,65,61,56,50,62,54,56,63,63,54,65,53,53,58,66,54,67,69,70,67,66,67,59,59,63,55,62,62,54,62,59,59,58,60,65,57,61,66,63,69,64,54,65,49,58,62,46,66,63,55,57,64,71,66,61,53,53,54,54,66,47,65,64,60,69,54,56,55,64,62,57,60,52,62,63,67,60,62,55,55,53,40,67,60,66,58,62,60,64,61,61,58,52,67,61,40,48,48,60,62,55,55,55,59,56,66,68,55,58,62,53,41,49,56,58,54,55,50,55,59,57,57,67,61,57,65,59,63,50,48,57,64,63,61,50,59,49,61,61,61,63,60,60,61,59,51,64,56,64,58,58,58,56,55,66,58,62,52,68,63,63,62,62,55,54,58,50,49,50,58,63,57,52,54,54,53,56,57,77,70,56,62,65,50,61,63,56,65,63,57,62,61,60,58,67,53,56,60,65,64,67,74,79,53,60,61,52,63,66,65,58,67,62,54,59,59,61,54,54,62,65,64,59,60,78,68,52,55,59,60,52,66,64,62,54,60,60,55,62,57,52,64,68,75,58,64,54,56,56,60,55,53,63,65,50,69,84,83,65,50,59,61,63,63,62,60,51,64,60,80,77,71,75,63,52,60,53,62,61,51,52,60,60,48,55,58,66,76,72,74,70,80,64,69,55,60,59,54,61,58,51,47,59,56,76,70,79,61,66,50,54,56,51,45,73,65,83,72,65,73,67,53,64,59,59,60,51,54,54,46,49,46,76,69,63,49,58,63,63],\"y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z\":[25,12,32,36,33,35,32,28,31,34,33,28,33,41,42,33,40,20,23,17,17,46,37,36,26,26,40,37,30,22,36,39,35,36,33,37,33,23,17,36,15,15,22,19,21,40,36,41,20,16,16,37,23,21,39,40,38,20,21,20,18,17,14,17,17,20,23,23,33,33,26,24,39,37,36,20,25,22,22,22,15,18,19,19,22,21,49,35,24,24,26,32,34,44,29,23,20,25,19,21,24,33,21,18,15,21,20,20,19,21,28,29,46,35,29,25,20,20,22,24,24,23,22,23,21,20,26,26,30,38,42,17,25,22,21,21,24,45,43,39,24,23,23,27,21,23,27,24,21,19,23,33,18,21,22,20,22,22,23,21,33,37,24,25,22,19,24,23,27,22,23,19,22,23,21,20,21,26,20,35,24,19,20,25,26,20,24,28,27,28,28,26,21,19,23,25,24,27,23,22,22,25,21,23,20,22,16,28,33,27,33,30,23,27,24,20,20,30,35,35,23,21,22,23,24,20,18,24,23,22,25,22,24,18,17,34,32,26,32,39,26,23,21,24,14,39,35,23,31,31,28,29,25,29,31,29,23,26,18,23,24,20,23,25,23,25,19,20,22,21,25,35,36,33,40,17,16,20,14,20,25,32,31,30,32,32,28,25,17,28,27,24,26,24,23,22,25,20,20,30,28,26,45,44,19,17,17,21,42,52,49,22,27,32,29,32,15,27,28,24,25,23,23,24,20,20,44,19,19,20,51,33,33,30,27,35,28,18,29,24,26,22,25,22,25,21,18,21,20,24,22,20,45,18,17,46,44,41,39,27,29,23,30,24,28,25,23,25,26,27,23,25,26,20,40,45,42,41,43,24,30,28,38,25,24,40,35,28,25,23,23,19,24,23,23,27,25,34,24,31,20,23,24,23,25,21,25,22,23,21,25,22,35,33,29,22,40,49,23,26,22,25,23,18,24,49,33,27,33,31,30,32,37,39,47,50,24,31,21,23,21,46,38,36,38,30,32,31,34,38,36,46,23,24,37,38,43,40,38,26,33,33,40,52,44,23,27,26,29,30,35,59,58,43,37,42,32,28,33,21,29,41,43,29,44,40,48,56,32,32,43,54,26,30,20,20,24,43,41,43,51,24,25,28,28,39,21,23,26,29,30,28,38,38,46,38,50,58,27,25,26,27,29,28,26,34,28,30,27,35,38,55,33,30,37,40,49,55,37,32,35,33,29,31,25,23,38,44,37,45,38,39,31,34,33,19,35,33,30,34,33,39,28,31,56,46,30,33,33,32,32,27,21,44,37,39,34,25,27,22,23,24,44,35,33,34,35,31,34,33,27,32,28,28,39,29,21,32,22,20,23,26,35,33,37,34,37,22,24,32,23,24,23,25,39,32,37,32,32,34,37,30,28,21,21,27,29,25,21,24,25,27,34,35,38,31,29,32,28,25,24,21,22,37,31,36,18,24,20,43,22,31,26,19,15,25,35,32,31,30,22,30,28,45,34,35,29,29,26,25,19,27,35,32,37,30,32,29,23,47,29,32,32,26,21,36,34,40,34,31,31,32,23,28,22,27,36,28,30,33,33,31,23,29,24,29,35,31,36,33,24,38,39,38,31,17,27,24,26,32,33,32,36,32,30,30,42,37,41,45,27,35,19,23,25,20,17,27,31,34,28,27,29,31,44,36,49,41,28,27,27,17,23,28,22,21,26,24,29,25,24,26,32,29,36,45,51,41,38,44,44,31,19,22,25,23,28,23,27,29,30,17,25,27,26,21,27,31,27,27,33,41,44,53,18,23,20,25,21,28,20,26,18,21,27,28,22,31,36,48,38,39,25,23,22,24,21,29,20,21,28,29,50,32,46,49,23,17,26,27,19,16,19,27,23,30,32,42,34,43,41,36,17,22,21,25,15,21,24,24,17,21,26,29,41,43,42,45,41,46,52,45,28,21,15,23,19,20,25,30,36,44,46,45,54,39,42,21,24,19,25,28,47,41,48,42,40,46,36,23,17,14,16,18,17,18,18,23,48,54,41,45,40,20,13,14,16],\"type\":\"scatter3d\"},{\"hovertemplate\":\"color=#4c801c\\u003cbr\\u003eReds=%{x}\\u003cbr\\u003eGreens=%{y}\\u003cbr\\u003eBlues=%{z}\\u003cextra\\u003e\\u003c\\u002fextra\\u003e\",\"legendgroup\":\"#4c801c\",\"marker\":{\"color\":\"#4c801c\",\"symbol\":\"circle\"},\"mode\":\"markers\",\"name\":\"#4c801c\",\"scene\":\"scene\",\"showlegend\":true,\"x\":[71,74,76,70,64,67,74,74,76,65,70,75,71,71,85,78,63,77,82,63,63,69,78,81,78,65,66,77,80,77,77,83,65,72,73,87,86,71,87,89,89,66,85,82,82,86,84,88,90,94,92,81,78,85,83,91,57,82,84,80,81,82,94,82,60,86,93,83,80,80,76,77,90,81,87,96,79,77,82,86,79,62,77,78,85,81,78,76,70,81,80,90,55,76,79,78,72,79,82,85,88,77,90,84,86,88,61,57,54,78,79,85,74,81,86,89,92,78,66,60,88,87,86,88,83,59,63,54,79,73,74,78,81,82,88,54,64,57,84,80,74,89,75,74,84,56,61,58,56,60,87,77,84,74,95,76,56,83,55,66,57,58,58,59,66,62,88,75,80,82,91,86,82,54,83,65,72,54,53,51,60,79,85,85,83,60,53,84,77,69,60,66,66,70,63,64,80,80,77,76,90,81,60,54,85,87,76,67,66,64,63,65,82,82,84,66,79,80,68,68,68,67,70,62,78,67,79,75,81,84,72,80,83,81,86,91,86,86,76,81,90,73,82,74,75,76,81,73,74,83,88,86,87,90,91,77,91,74,88,83,90,86,89,76,89,87,75,73,90,84,89,77,86,81,77,69,69,82,88,80,86,78,83,86,73,69,77,91,81,77,83,89,74,82,84,71,80,75,93,72,83,71,85,77,71,74,76,84,74,77,79,86,76,83,87,82,72,83,75,73,82,83,72,71,73,76,80,88,75,73,77,74,84,83,87,88,89,84,75,82,85,69,78,57,70,77,76,85,85,89,69,70,75,75,74,82,83,76,74,78,74,75,77,77,69,79,90,88,80,85,75,89,72,75,69,74,79,75,78,86,73,81,83,77,83,71,77,75,76,73,84,88,71,80,74,86,83,77,86,79,72,78,79,69,69,74,73,85,88,85,83,82,87,89,75,67,85,72,54,77,68,67,81,82,69,68,77,76,79,76,62,75,80,81,69,76,72,76,72,82,79,70,82,86,75,77,79,73,66,72,69,82,85,72,70,78,75,75,84,86,70,85,76,89,71,81,84,79,80,68,67,70,80,68,76,70,68,73,67,73,68,76,66,79,70,67,82,75,69,70,72,73,70,70,82,75,82,71,77,88,70,73,62,72,73,78,79,72,77,69,73,69,82,84,70,77,71,70,68,75,74,71,70,71,66,69,69,78,86,73,69,67,69,74,68,67,68,68,69,66,69,74,63,80,87,92,89,80,75,67,60,92,71,74,70,88,79,72,83,74,70,71,82,77,73,74,75,80,68,66,89,67,70,78,69,67,68,71,74,69,72,85,84,87,93,64,65,66,91,91,73,99,84,93,80,74],\"y\":[138,144,147,139,116,125,136,141,145,135,135,141,137,143,108,147,120,146,152,123,125,139,149,155,149,119,128,150,161,146,119,109,120,138,143,115,111,114,103,106,116,121,111,108,109,116,115,120,118,126,128,110,111,113,120,119,120,121,125,111,108,121,134,119,121,127,136,114,108,108,114,112,128,126,133,142,109,119,120,124,116,127,115,123,135,123,109,109,112,118,116,134,129,109,112,113,111,114,113,121,127,118,131,126,129,130,127,131,129,113,115,126,114,123,125,131,133,117,121,135,130,131,128,133,118,120,138,124,124,118,113,115,120,124,138,130,143,131,127,122,110,139,116,110,124,132,143,133,132,140,127,113,124,110,149,116,123,125,126,145,138,132,137,138,148,126,126,111,118,126,144,131,126,127,124,132,146,123,124,124,135,120,133,136,131,129,130,131,134,138,121,139,142,147,133,131,115,120,119,118,145,122,126,127,142,154,145,134,134,128,124,124,125,128,127,117,144,143,124,130,131,131,133,117,134,121,120,110,127,134,121,135,145,137,139,137,123,124,117,125,141,122,137,122,125,125,129,111,111,129,141,135,140,142,144,128,141,115,139,136,143,137,143,111,147,136,116,113,140,136,147,124,138,132,121,118,115,129,143,134,135,131,137,142,115,114,126,145,130,121,140,148,110,136,139,115,128,132,155,122,133,117,135,132,120,120,134,135,118,121,127,145,132,140,144,140,121,134,129,112,136,138,114,113,117,125,127,148,126,118,127,123,145,145,149,150,149,142,134,133,143,116,127,121,121,128,126,139,137,147,115,115,122,124,118,135,139,127,131,129,119,126,131,135,117,128,146,147,133,139,123,149,120,130,117,128,128,128,132,146,116,136,142,122,142,123,126,128,125,115,139,144,116,140,125,148,141,128,141,143,117,137,131,124,120,129,118,145,151,146,140,148,146,143,127,114,143,123,121,137,116,115,144,149,122,115,140,128,139,137,121,131,138,144,113,134,112,130,127,140,137,123,136,152,125,131,144,124,127,118,119,144,147,119,119,131,123,125,138,149,119,148,129,150,118,139,141,140,144,119,115,119,140,119,131,126,115,119,115,137,122,135,115,140,117,115,140,130,118,127,123,125,112,122,141,132,143,116,131,110,128,136,117,126,129,140,136,121,144,117,118,116,145,151,125,136,127,119,118,137,137,128,122,128,118,117,129,138,158,124,115,115,123,130,113,114,116,121,121,115,128,130,116,145,156,156,154,145,135,121,118,115,119,129,127,160,148,122,150,138,120,126,125,111,130,139,134,143,118,114,122,119,120,144,127,125,121,126,136,116,128,106,106,105,133,118,125,117,114,106,112,125,105,125,112,110],\"z\":[26,19,14,19,19,28,22,18,17,19,21,21,20,17,17,22,22,20,15,17,17,22,17,16,14,20,20,18,13,17,51,20,21,22,18,17,25,40,43,43,18,17,21,22,19,18,22,16,19,21,13,22,24,26,16,21,22,18,17,23,24,16,22,18,24,18,13,26,25,26,24,26,19,20,12,15,29,19,18,25,23,25,20,24,46,25,25,23,16,23,25,18,24,45,43,45,33,31,29,25,22,21,19,23,20,22,23,24,25,45,49,49,26,27,25,19,21,16,25,25,30,24,27,24,29,23,24,24,55,50,26,28,25,26,20,23,24,22,47,28,26,22,25,52,52,25,22,29,26,25,58,45,24,26,20,26,50,50,24,27,23,26,25,22,25,25,58,46,52,27,21,26,27,52,52,22,20,24,28,25,22,26,24,23,28,54,57,55,23,21,26,20,25,22,24,26,57,44,27,29,25,29,49,50,23,23,22,28,24,26,26,24,36,58,50,22,27,24,26,28,28,30,29,27,24,30,67,34,32,29,32,23,23,30,23,40,52,67,29,31,28,27,28,30,21,23,25,42,47,33,31,31,28,30,29,34,27,24,30,32,31,27,23,50,30,34,33,31,30,29,31,29,29,30,35,27,25,28,30,40,31,25,28,29,24,33,32,34,30,33,28,27,49,31,34,33,28,27,15,23,31,36,30,26,30,22,21,34,34,36,33,32,30,30,29,21,26,27,18,49,32,33,36,35,35,32,29,25,28,24,25,36,34,33,29,26,29,27,30,25,23,25,26,58,33,34,33,35,31,27,28,27,30,35,35,32,25,31,25,29,35,35,35,31,33,35,31,31,30,28,24,32,28,31,26,30,33,35,29,35,33,32,33,38,31,35,32,32,29,31,33,37,31,32,29,32,31,30,38,29,29,28,32,21,23,31,33,34,29,33,34,28,30,37,35,33,30,30,36,30,38,31,34,28,31,27,19,27,28,21,24,34,33,25,33,29,31,33,29,35,35,33,33,28,33,26,18,28,28,36,30,26,32,33,27,34,39,36,36,32,32,29,27,27,30,26,26,30,27,26,30,32,32,31,30,38,35,39,35,33,26,32,27,29,27,26,26,25,28,23,30,24,31,26,33,33,34,39,47,48,27,21,26,32,27,21,27,30,22,29,34,25,20,21,22,25,28,30,27,31,32,39,44,49,24,25,25,22,17,22,29,24,30,40,28,24,25,25,23,30,21,27,22,19,17,14,23,19,22,32,50,54,27,23,15,14,16,23,15,18,20,27,55,46,16,20,25,20,21,25,56,19,18,18,22,16,17,19,17,22,21,53,46,51,49,15,15,21,52,53,46,48,47,63,45,38],\"type\":\"scatter3d\"},{\"hovertemplate\":\"color=#0d180f\\u003cbr\\u003eReds=%{x}\\u003cbr\\u003eGreens=%{y}\\u003cbr\\u003eBlues=%{z}\\u003cextra\\u003e\\u003c\\u002fextra\\u003e\",\"legendgroup\":\"#0d180f\",\"marker\":{\"color\":\"#0d180f\",\"symbol\":\"circle\"},\"mode\":\"markers\",\"name\":\"#0d180f\",\"scene\":\"scene\",\"showlegend\":true,\"x\":[16,24,23,23,23,22,21,22,18,26,11,24,17,19,17,17,15,16,18,15,19,16,16,16,15,21,22,25,20,25,21,13,24,22,23,24,8,20,4,15,15,22,23,24,22,24,25,19,24,17,16,17,17,17,14,14,18,15,15,16,20,18,19,19,23,17,24,18,25,24,15,20,22,21,8,13,13,22,21,22,21,26,20,16,17,15,19,16,17,11,17,15,17,14,18,19,14,17,19,20,19,20,18,20,22,22,20,20,21,11,14,28,18,12,19,26,18,26,18,17,18,16,17,14,16,15,18,16,20,22,18,20,24,20,20,16,23,22,22,23,17,18,15,19,15,16,17,14,17,20,16,17,22,18,22,18,22,23,12,13,12,20,19,17,18,14,23,18,16,15,21,24,23,23,16,22,19,20,18,14,27,22,17,21,18,16,20,17,19,22,20,22,22,10,15,15,9,3,22,15,22,20,20,15,18,24,23,11,18,19,21,13,11,6,4,22,17,6,12,6,23,24,5,11,13,17,9,9,13,18,13,10,8,16,11,6,13,14,16,21,18,8,9,6,18,10,13,15,8,6,15,17,20,18,18,12,8,11,14,13,12,9,16,8,9,15,17,13,20,12,14,17,17,13,12,22,9,14,8,14,14,17,7,10,9,7,11,11,11,15,20,5,6,18,8,19,6,13,13,10,18,22,20,13,6,9,14,6,3,9,8,13,7,6,15,11,22,10,9,15,12,12,8,7,18,15,15,8,4,5,15,5,18,13,2,3,11,10,7,10,17,18,14,20,7,6,4,10,10,20,7,10,3,4,11,6,7,6,1,4,12,8,7,8,16,16,17,11,10,5,3,9,7,12,10,10,11,13,6,13,12,6,6,7,4,3,9,6,7,5,11,17,17,20,20,9,18,14,9,4,3,13,11,8,8,8,9,11,11,11,12,5,15,8,11,10,17,8,5,12,12,14,14,19,8,18,19,19,18,15,10,5,3,4,12,9,13,21,11,10,11,9,9,7,8,18,11,9,14,9,12,11,17,14,4,4,13,7,19,18,11,14,15,15,17,20,18,20,21,22,21,18,12,10,9,13,18,21,11,8,12,13,14,8,6,13,9,13,13,2,3,13,12,5,11,12,13,11,12,14,14,17,16,18,18,20,23,24,24,22,19,16,14,13,18,11,7,21,14,13,13,3,2,6,9,11,17,12,12,17,20,12,5,16,18,20,20,23,24,24,22,21,19,16,16,14,7,23,21,11,13,16,2,2,2,4,8,7,7,9,9,6,7,22,23,26,14,6,5,16,18,21,22,22,22,22,20,18,14,8,5,3,14,4,3,6,6,6,7,6,7,6,20,19,2,2,1,1,14,8,8,12,4,7,6,13,19,23,15,15,5,13,16,18,21,20,20,20,17,8,5,2,2,12,6,9,3,2,4,8,10,8,10,6,22,15,17,19,4,5,1,3,6,8,6,9,9,14,13,20,24,18,20,12,15,14,17,19,16,8,6,5,2,3,2,14,11,7,5,9,12,12,5,7,19,15,15,22,21,16,16,18,19,5,6,3,7,10,5,6,12,6,22,15,8,18,15,14,13,25,17,14,6,2,3,3,1,3,4,14,11,13,9,7,6,11,20,19,20,19,20,3,2,9,1,1,13,14,8,18,13,8,12,14,12,5,4,3,3,5,18,19,11,8,11,5,2,9,17,15,12,7,2,1,4,7,7,9,11,8,21,20,15,17,14,12,9,8,8,5,4,1,7,9,9,9,5,3,1,18,18,16,3,5,8,8,18,14,13,21,7,14,7,10,8,8,6,7,13,14,8,9,5,1,3,20,17,17,2,6,6,7,6,4,6,14,15,13,9,10,22,12,7,2,13,7,10,18,11,15,9,3,3,14,16,5,5,4,6,2,5,5,2,4,13,13,10,7,17,18,16,6,8,6,4,10,19,11,16,13,11,16,3,10,16,5,3,5,13,7,3,6,6,6,16,21,6,5,2,3,2,4,18,11,7,8,14,20,10,8,6,9,11,15,17,2,6,17,17,7,6,5,14,16,6,11,21,12,21,7,6,4,4,3,5,14,12,13,8,4,4,20,22,18,12,9,9,5,12,21,9,11,3,13,13,4,11,3,3,10,20,6,16,15,20,12,4,21,20,12,16,8,10,11,10,6,9,16,17,14,7,8,13,11,16,11,11,10,3,26,11,20,15,9,6,10,13,15,17,20,17,4,19,8,9,12,13,24,10,25,18,16,24,11,5,7,21,12,9,11,13,17,15,14,13,16,11,16,11,10,12,11,19,12,17,16,15,18,21,7,20,15,17,10,17,8,11,15,18,24,21,5,8,13,24,13,10,20,10,19,9,20,13,20,12,21,23,22,20,15,12,6,7,10,10,23,22,19,20,16,14,6,8,11,14,14,18,14,13,17,18,20,10,16,12,16,22,23,20,18,15,16,13,16,10,15,19,16,11,5,2,18,16,19,8,4,14,18,24,22,21,10,20,7,14,19,18,23,13,12,16,23,15,21,18,12,10,10,9,26,19,16,13,15,18,16,9,7,20,6,17,17,16,16,21,18,22,9,17,12,10,14,18,21,22,14,16,14,9,5,16,22,5,21,16,15,15,15,15,14,20,13,7,9,7,2,3,9,20,17,19,14,15,19,21,7,21,22,23,16,19,9,15,16,18,15,15,14,15,16,12,7,6,5,15,10,4,14,19,16,19,20,24,17,10,19,15,13,14,15,12,12,15,17,10,17,21,23,14,17,17,15,17,15,13,11,12,11,11,12,11,9,18,16,15,6,10,14,15,15,18,22,20,16,17,14,21,11,9,11,8,12,11,10,12,13,16,11,11,11,10,12,5,3,4,3,16,24,19,14,13,10,9,8,8,10,9,12,17,13,10,15,9,4,4,13,9],\"y\":[29,32,29,30,31,28,27,28,24,33,12,27,28,31,28,29,27,28,30,27,31,28,28,28,27,33,28,31,26,31,26,18,30,27,29,30,32,35,10,22,30,30,29,30,28,30,33,25,28,28,28,29,29,29,26,25,30,27,27,28,32,29,30,33,29,23,30,24,31,30,20,25,28,27,35,37,21,28,27,28,28,32,25,27,28,27,31,28,28,22,28,27,29,26,31,36,29,28,26,26,21,23,24,26,27,27,25,25,26,37,41,34,22,20,28,34,23,32,29,29,30,28,29,25,27,26,30,31,39,27,23,25,29,25,25,22,28,33,28,32,28,30,26,31,27,28,29,29,41,23,21,22,27,23,27,22,28,29,39,33,28,24,26,28,27,32,36,30,28,35,23,28,29,32,20,27,24,26,23,27,34,29,28,30,27,31,30,37,27,35,25,36,27,32,29,32,17,9,29,20,27,29,31,29,31,29,34,25,27,29,29,27,25,12,4,33,30,33,31,20,35,36,17,21,23,41,18,17,24,34,20,18,17,24,23,16,29,29,31,33,25,11,19,9,35,26,32,31,35,8,34,34,40,32,38,24,20,26,41,27,37,31,36,32,20,30,40,34,36,41,40,34,39,25,22,27,21,35,36,35,34,31,11,15,28,13,32,17,23,28,35,39,38,28,14,27,8,26,26,22,31,36,33,39,15,15,26,16,35,41,39,24,7,6,27,23,35,21,27,31,42,41,38,38,38,32,25,9,4,10,27,7,33,22,27,24,41,40,38,26,36,34,30,34,12,8,4,15,8,33,16,21,9,8,25,19,18,16,25,23,42,38,37,37,35,31,31,15,11,5,4,13,13,23,23,21,25,37,14,22,26,17,20,23,21,28,41,36,35,33,30,31,31,34,30,16,18,14,9,4,4,19,16,14,13,16,19,25,29,35,30,13,30,27,33,30,42,29,32,27,26,28,29,33,17,18,19,19,18,15,10,6,4,7,19,14,15,27,18,16,18,17,16,14,19,31,28,33,30,13,34,33,33,29,19,15,23,32,36,31,25,28,29,30,30,21,18,20,21,22,21,18,12,10,9,13,18,24,16,12,15,26,27,17,5,36,30,22,27,19,21,34,37,33,41,41,25,23,24,25,28,29,18,17,18,20,23,24,24,22,19,16,14,12,18,14,13,38,35,24,25,24,22,34,38,41,31,23,23,28,30,21,6,14,18,20,20,23,24,24,22,21,19,16,16,28,8,37,31,18,25,28,17,21,18,19,20,16,24,39,38,35,37,33,34,33,18,6,5,16,18,21,22,22,22,22,20,18,20,18,8,3,16,8,7,11,11,9,13,9,17,16,36,31,6,15,18,18,23,22,24,39,33,35,32,26,29,33,25,22,6,15,17,18,21,20,21,22,18,18,15,8,2,18,14,17,9,3,6,24,17,18,27,17,37,29,30,31,17,9,4,10,15,24,14,22,39,37,25,31,34,25,33,17,19,14,17,19,19,14,16,14,9,4,1,21,29,24,11,33,29,22,12,16,40,28,29,38,39,29,28,30,31,18,17,13,23,33,26,35,29,19,33,21,13,32,28,19,14,33,27,32,27,14,7,6,6,2,10,35,28,36,26,13,18,17,36,34,35,37,33,16,13,30,28,30,35,31,14,35,29,13,17,26,31,17,16,11,4,8,27,35,24,25,17,10,8,15,35,28,30,22,24,26,30,39,35,27,29,13,33,37,28,29,28,27,31,30,20,11,15,5,18,16,23,20,14,11,4,30,30,28,24,29,36,35,34,20,20,35,14,26,28,27,28,20,20,18,24,27,16,17,11,5,6,29,30,29,23,28,29,33,35,31,32,38,30,25,16,12,37,28,28,23,32,18,23,30,20,28,22,8,3,27,28,21,20,24,30,32,33,30,31,27,32,25,14,7,31,33,33,27,28,18,14,18,36,27,32,20,14,29,5,15,27,25,25,27,32,33,33,33,27,12,21,34,25,21,18,15,12,11,25,21,15,20,20,25,11,8,12,8,15,20,29,23,27,32,34,39,32,24,28,20,9,17,27,17,34,24,17,15,12,8,5,26,16,21,15,8,8,28,32,24,15,13,14,9,21,33,24,30,26,26,18,31,35,12,6,13,27,9,31,36,35,19,4,29,25,16,23,15,9,17,23,19,25,33,19,25,34,34,24,17,28,17,24,19,5,33,16,30,21,6,8,21,19,25,29,30,24,13,38,19,15,27,21,31,19,31,23,22,35,19,7,8,32,16,18,23,19,34,25,20,16,34,31,31,19,16,24,16,36,16,27,21,24,27,31,8,29,25,26,20,31,15,18,25,23,29,31,15,18,22,34,20,16,33,19,36,13,30,19,26,19,33,33,31,30,23,18,30,24,17,18,29,27,27,27,30,21,14,15,23,24,32,32,19,18,17,34,35,22,32,25,24,27,32,29,26,26,27,28,24,21,26,26,27,13,4,4,28,23,30,16,17,21,20,31,28,29,28,28,12,24,33,29,37,17,29,27,33,25,37,29,23,27,31,25,34,25,21,22,26,29,26,20,20,34,7,28,28,29,27,37,29,35,16,30,32,20,32,28,29,29,22,24,26,14,6,29,38,7,34,28,27,26,27,26,26,38,25,20,22,12,5,4,24,29,26,27,27,25,31,34,11,28,29,31,18,38,14,26,25,25,26,25,26,25,24,29,22,14,8,28,32,28,29,28,25,28,28,30,22,14,30,25,24,25,27,26,23,26,30,23,27,31,32,21,23,21,13,28,27,24,31,32,32,35,37,37,28,26,33,23,25,31,32,29,23,29,33,24,15,30,24,33,40,36,38,35,34,28,30,28,22,30,26,24,21,15,15,12,11,7,2,24,38,33,20,40,34,35,36,38,36,31,32,41,33,21,29,23,26,22,29,30],\"z\":[28,20,19,19,19,18,17,18,14,18,8,16,9,10,9,9,7,8,10,7,11,8,8,8,7,13,16,21,16,22,17,15,21,21,21,20,9,21,12,16,29,19,19,20,17,18,17,16,14,11,10,10,9,9,8,8,10,7,7,8,12,9,16,13,20,14,20,15,21,20,16,19,20,19,10,14,23,18,17,18,14,18,17,8,8,8,11,8,11,6,9,7,9,6,10,9,4,12,16,16,16,16,15,16,18,19,19,19,20,13,16,15,16,16,17,15,17,19,6,8,10,8,10,7,10,9,10,7,7,20,16,18,22,18,19,14,20,25,18,14,9,10,7,11,7,9,9,11,11,18,15,16,21,18,21,17,19,19,16,24,27,23,18,9,8,6,14,10,9,10,18,18,17,23,17,21,18,19,18,28,17,22,22,17,7,9,10,11,17,18,19,18,19,22,15,30,16,11,10,9,15,21,20,7,10,17,17,25,14,14,16,21,15,4,6,22,8,31,31,19,13,15,16,13,8,8,19,13,20,16,10,3,20,28,23,10,25,13,5,13,7,6,18,12,25,24,30,6,25,3,30,5,6,14,14,22,14,5,10,7,14,9,26,29,10,2,10,8,17,10,12,12,16,11,10,16,7,24,10,11,13,15,7,9,12,11,14,12,16,11,18,10,15,14,7,12,3,11,8,10,12,15,16,18,10,12,14,6,8,14,16,10,7,7,19,9,17,8,17,13,15,17,12,13,17,19,15,8,5,9,13,9,11,9,13,11,17,14,12,9,15,14,12,20,10,7,4,8,8,14,5,13,10,6,10,4,4,5,13,12,16,10,11,13,13,11,13,14,11,5,7,3,3,12,11,9,10,18,15,16,7,3,4,6,7,18,11,9,14,14,11,14,14,17,21,10,18,14,9,4,2,12,4,4,7,10,11,12,14,19,39,13,10,6,7,9,10,23,13,10,9,10,10,15,8,16,19,19,18,15,10,6,3,5,10,6,9,16,8,5,11,9,11,10,10,29,17,21,44,17,11,7,10,11,18,13,18,14,22,15,8,11,11,9,10,13,18,20,21,22,21,18,12,10,9,13,16,16,10,8,11,36,38,24,8,11,7,7,10,20,18,25,16,14,14,14,13,8,7,9,9,12,14,19,18,20,23,24,24,22,19,16,16,16,18,12,11,13,9,9,9,24,22,14,15,14,15,11,8,10,14,8,3,15,18,20,20,23,24,24,22,21,19,19,21,30,13,12,13,7,9,11,16,21,17,13,19,17,23,18,16,13,14,14,17,17,13,6,5,16,18,21,22,22,22,22,20,18,22,22,12,3,12,4,2,5,5,3,4,4,6,6,11,11,8,16,17,11,17,19,24,20,11,11,9,11,14,11,13,14,6,12,16,18,21,20,20,20,18,28,20,12,7,15,8,8,7,2,4,12,9,9,11,7,13,7,10,11,17,12,7,10,14,17,9,19,23,17,9,13,15,8,13,6,12,14,17,19,16,24,25,22,15,9,6,15,13,13,9,15,13,12,6,7,12,11,12,13,12,7,8,10,11,21,20,16,25,32,31,20,15,7,23,14,6,13,9,10,11,18,17,20,37,19,12,10,8,5,3,21,17,19,14,7,8,4,13,10,12,15,13,19,16,37,31,19,18,17,8,12,9,9,10,15,21,29,25,13,8,12,19,15,18,14,12,5,2,9,13,8,35,22,29,30,35,25,23,15,15,10,10,16,14,11,13,16,24,45,31,16,22,14,14,12,17,14,11,8,3,10,10,8,31,36,28,25,21,12,15,15,8,22,23,37,41,33,29,30,25,15,10,17,8,4,5,10,10,9,28,37,39,37,25,20,19,23,19,14,12,12,15,21,25,31,21,21,17,21,13,10,18,6,6,10,8,23,24,30,32,38,44,33,21,18,18,17,7,10,13,16,21,28,43,25,19,17,21,21,25,10,7,17,6,15,8,26,25,24,25,29,37,27,23,6,14,17,26,29,24,22,18,11,15,15,12,11,12,16,10,5,4,5,6,12,11,24,26,27,21,25,35,19,25,19,10,11,15,10,19,22,20,19,18,9,6,13,12,17,8,7,4,19,17,13,10,8,8,4,8,17,36,33,23,21,17,35,31,13,6,6,11,4,8,20,18,11,4,19,17,11,15,10,7,9,35,25,23,31,13,15,42,38,13,7,8,7,9,8,4,19,10,15,10,5,5,23,22,23,25,21,16,5,12,9,8,5,12,19,10,21,17,12,16,8,3,7,14,8,14,23,25,30,31,15,8,31,45,9,11,6,9,5,18,12,16,13,15,13,16,3,12,13,9,17,30,19,24,25,18,23,22,19,18,7,20,8,6,15,12,11,9,10,11,13,13,17,15,18,13,10,11,25,15,17,18,17,20,24,20,34,24,19,18,7,8,13,14,9,11,11,17,17,16,27,18,23,19,22,23,25,22,34,25,25,11,11,9,11,12,4,4,7,7,12,13,10,14,14,24,21,22,33,26,5,13,9,9,13,6,6,7,15,10,8,10,20,20,25,11,18,18,19,23,28,32,22,8,5,12,8,7,8,5,10,9,8,10,6,17,30,26,29,20,30,31,24,26,22,11,5,11,9,5,12,7,9,10,7,9,9,8,19,32,34,18,8,4,26,27,27,27,26,18,20,18,6,19,23,22,12,7,5,8,11,10,9,9,8,8,7,43,31,23,12,30,28,20,30,25,22,25,23,23,16,8,10,10,8,9,11,9,7,10,7,22,19,23,23,16,20,16,13,10,6,8,8,9,8,11,13,13,8,10,12,9,24,29,29,35,36,23,23,17,16,11,10,13,8,11,13,10,13,9,9,10,8,12,44,38,33,16,22,13,12,11,5,15,11,12,8,12,11,10,11,12,11,9,8,9,10,5,11,34,22,20,27,25],\"type\":\"scatter3d\"},{\"hovertemplate\":\"color=#316057\\u003cbr\\u003eReds=%{x}\\u003cbr\\u003eGreens=%{y}\\u003cbr\\u003eBlues=%{z}\\u003cextra\\u003e\\u003c\\u002fextra\\u003e\",\"legendgroup\":\"#316057\",\"marker\":{\"color\":\"#316057\",\"symbol\":\"circle\"},\"mode\":\"markers\",\"name\":\"#316057\",\"scene\":\"scene\",\"showlegend\":true,\"x\":[50,56,33,59,53,48,51,51,48,44,30,58,58,44,43,55,43,48,31,55,42,50,45,48,28,26,70,59,49,57,46,38,40,43,40,62,55,57,37,43,43,43,59,52,47,57,44,40,38,42,43,52,45,51,41,42,54,45,60,63,48,47,53,69,75,60,43,53,46,68,69,67,68,63,50,71,66,46,73,36,58,61,64,78,61,56,85,63,48,52,82,46,64,69,81,50,76,48,54,68,55,36,59,45,66,60,37,50,48,33,52,55,54,17,29,30,40,44,55,53,41,16,40,36,46,39,50,51,54,54,48,30,38,39,44,51,48,50,55,55,55,39,37,47,49,51,51,52,52,56,55,55,60,39,36,52,48,50,46,52,53,55,48,52,48,47,49,49,53,37,41,41,56,50,53,39,45,44,45,53,47,54,47,44,22,54,50,38,50,50,24,53,40,20,82,45,56,68,23,51,27,40,27,29,39,24,27],\"y\":[95,101,76,92,107,96,91,97,96,74,71,111,116,83,79,94,91,90,78,103,76,93,91,88,71,71,107,118,95,107,87,74,73,76,71,99,97,96,71,79,74,76,109,97,91,100,79,70,76,76,81,87,83,93,79,75,97,90,108,106,91,86,105,130,124,106,74,99,90,116,132,126,131,119,118,110,105,78,116,66,96,101,105,124,98,98,122,100,79,81,124,80,100,104,119,85,109,81,88,110,90,86,102,111,106,88,83,117,107,71,116,134,104,62,66,77,93,112,131,120,91,54,80,80,107,84,114,122,123,131,100,71,82,74,89,114,103,109,128,125,124,85,79,101,106,105,115,117,118,124,120,120,129,84,69,106,109,110,104,119,114,113,103,105,106,96,104,96,111,79,77,76,110,103,106,80,103,99,96,107,91,114,101,90,56,122,96,74,107,109,70,98,89,61,110,84,110,124,66,112,65,87,68,80,91,69,78],\"z\":[86,76,76,76,96,88,85,76,91,67,72,101,104,76,73,59,82,83,77,95,72,86,84,84,74,73,63,101,87,98,80,69,69,73,72,82,92,91,67,74,72,68,95,89,83,93,74,67,70,71,63,70,77,86,73,66,79,71,93,99,85,80,90,98,75,86,68,91,79,77,117,102,98,64,64,65,63,76,71,74,68,73,67,90,68,73,87,72,68,63,86,64,79,63,91,62,68,64,62,71,62,76,70,107,69,65,81,116,108,73,115,129,105,82,70,78,93,108,127,117,90,81,80,77,104,87,114,120,122,127,100,77,83,75,89,112,105,108,125,122,121,86,77,98,99,106,115,116,117,123,117,116,124,82,75,104,108,111,108,120,115,112,104,105,106,100,102,98,111,77,79,81,109,103,105,83,102,97,94,104,91,109,96,94,75,120,87,69,99,110,86,85,88,82,82,64,69,85,74,79,71,75,71,87,69,77,84],\"type\":\"scatter3d\"},{\"hovertemplate\":\"color=#679f30\\u003cbr\\u003eReds=%{x}\\u003cbr\\u003eGreens=%{y}\\u003cbr\\u003eBlues=%{z}\\u003cextra\\u003e\\u003c\\u002fextra\\u003e\",\"legendgroup\":\"#679f30\",\"marker\":{\"color\":\"#679f30\",\"symbol\":\"circle\"},\"mode\":\"markers\",\"name\":\"#679f30\",\"scene\":\"scene\",\"showlegend\":true,\"x\":[100,100,105,128,119,104,112,113,136,135,107,98,115,122,119,126,121,103,114,117,123,118,114,106,97,96,114,111,104,109,101,92,102,89,99,90,89,97,97,90,88,99,97,96,105,101,89,95,95,95,98,94,92,93,93,96,95,93,113,107,101,101,93,97,91,104,103,97,93,90,98,100,98,101,94,103,97,92,100,102,90,98,91,97,103,99,93,96,91,93,89,89,94,88,97,89,89,89,98,111,115,104,98,131,131,136,119,93,91,90,128,128,130,113,93,99,95,123,122,117,100,95,108,110,101,98,110,115,91,114,111,106,113,104,104],\"y\":[145,147,147,184,180,152,159,164,194,193,157,144,165,178,175,188,182,153,165,169,175,169,164,155,142,140,163,165,152,156,159,135,146,139,156,133,137,138,153,140,135,156,154,145,146,157,132,154,157,152,160,149,157,154,156,151,150,160,186,184,169,166,158,161,153,184,181,167,153,152,164,174,168,173,155,173,168,156,170,174,154,161,154,171,173,168,157,157,157,158,152,154,159,158,167,159,162,159,153,164,172,146,150,189,195,192,175,143,136,134,185,188,183,166,129,142,138,179,178,168,146,132,153,160,148,140,157,144,124,166,164,151,163,155,149],\"z\":[58,58,56,72,63,59,63,64,68,71,55,50,69,70,65,67,64,65,63,61,64,65,64,57,61,60,64,66,61,60,21,54,61,67,68,57,54,50,24,92,86,22,16,97,86,22,75,22,25,30,25,30,33,31,30,27,30,25,18,20,26,28,30,29,29,24,17,24,28,37,30,24,23,23,30,28,27,28,24,27,26,35,28,24,23,28,37,32,26,36,36,27,31,25,24,22,22,18,57,66,64,62,55,78,72,75,63,53,56,59,71,69,73,66,62,64,59,65,67,66,61,62,62,69,63,55,70,56,75,68,67,65,64,61,65],\"type\":\"scatter3d\"}],                        {\"template\":{\"data\":{\"histogram2dcontour\":[{\"type\":\"histogram2dcontour\",\"colorbar\":{\"outlinewidth\":0,\"ticks\":\"\"},\"colorscale\":[[0.0,\"#0d0887\"],[0.1111111111111111,\"#46039f\"],[0.2222222222222222,\"#7201a8\"],[0.3333333333333333,\"#9c179e\"],[0.4444444444444444,\"#bd3786\"],[0.5555555555555556,\"#d8576b\"],[0.6666666666666666,\"#ed7953\"],[0.7777777777777778,\"#fb9f3a\"],[0.8888888888888888,\"#fdca26\"],[1.0,\"#f0f921\"]]}],\"choropleth\":[{\"type\":\"choropleth\",\"colorbar\":{\"outlinewidth\":0,\"ticks\":\"\"}}],\"histogram2d\":[{\"type\":\"histogram2d\",\"colorbar\":{\"outlinewidth\":0,\"ticks\":\"\"},\"colorscale\":[[0.0,\"#0d0887\"],[0.1111111111111111,\"#46039f\"],[0.2222222222222222,\"#7201a8\"],[0.3333333333333333,\"#9c179e\"],[0.4444444444444444,\"#bd3786\"],[0.5555555555555556,\"#d8576b\"],[0.6666666666666666,\"#ed7953\"],[0.7777777777777778,\"#fb9f3a\"],[0.8888888888888888,\"#fdca26\"],[1.0,\"#f0f921\"]]}],\"heatmap\":[{\"type\":\"heatmap\",\"colorbar\":{\"outlinewidth\":0,\"ticks\":\"\"},\"colorscale\":[[0.0,\"#0d0887\"],[0.1111111111111111,\"#46039f\"],[0.2222222222222222,\"#7201a8\"],[0.3333333333333333,\"#9c179e\"],[0.4444444444444444,\"#bd3786\"],[0.5555555555555556,\"#d8576b\"],[0.6666666666666666,\"#ed7953\"],[0.7777777777777778,\"#fb9f3a\"],[0.8888888888888888,\"#fdca26\"],[1.0,\"#f0f921\"]]}],\"heatmapgl\":[{\"type\":\"heatmapgl\",\"colorbar\":{\"outlinewidth\":0,\"ticks\":\"\"},\"colorscale\":[[0.0,\"#0d0887\"],[0.1111111111111111,\"#46039f\"],[0.2222222222222222,\"#7201a8\"],[0.3333333333333333,\"#9c179e\"],[0.4444444444444444,\"#bd3786\"],[0.5555555555555556,\"#d8576b\"],[0.6666666666666666,\"#ed7953\"],[0.7777777777777778,\"#fb9f3a\"],[0.8888888888888888,\"#fdca26\"],[1.0,\"#f0f921\"]]}],\"contourcarpet\":[{\"type\":\"contourcarpet\",\"colorbar\":{\"outlinewidth\":0,\"ticks\":\"\"}}],\"contour\":[{\"type\":\"contour\",\"colorbar\":{\"outlinewidth\":0,\"ticks\":\"\"},\"colorscale\":[[0.0,\"#0d0887\"],[0.1111111111111111,\"#46039f\"],[0.2222222222222222,\"#7201a8\"],[0.3333333333333333,\"#9c179e\"],[0.4444444444444444,\"#bd3786\"],[0.5555555555555556,\"#d8576b\"],[0.6666666666666666,\"#ed7953\"],[0.7777777777777778,\"#fb9f3a\"],[0.8888888888888888,\"#fdca26\"],[1.0,\"#f0f921\"]]}],\"surface\":[{\"type\":\"surface\",\"colorbar\":{\"outlinewidth\":0,\"ticks\":\"\"},\"colorscale\":[[0.0,\"#0d0887\"],[0.1111111111111111,\"#46039f\"],[0.2222222222222222,\"#7201a8\"],[0.3333333333333333,\"#9c179e\"],[0.4444444444444444,\"#bd3786\"],[0.5555555555555556,\"#d8576b\"],[0.6666666666666666,\"#ed7953\"],[0.7777777777777778,\"#fb9f3a\"],[0.8888888888888888,\"#fdca26\"],[1.0,\"#f0f921\"]]}],\"mesh3d\":[{\"type\":\"mesh3d\",\"colorbar\":{\"outlinewidth\":0,\"ticks\":\"\"}}],\"scatter\":[{\"fillpattern\":{\"fillmode\":\"overlay\",\"size\":10,\"solidity\":0.2},\"type\":\"scatter\"}],\"parcoords\":[{\"type\":\"parcoords\",\"line\":{\"colorbar\":{\"outlinewidth\":0,\"ticks\":\"\"}}}],\"scatterpolargl\":[{\"type\":\"scatterpolargl\",\"marker\":{\"colorbar\":{\"outlinewidth\":0,\"ticks\":\"\"}}}],\"bar\":[{\"error_x\":{\"color\":\"#2a3f5f\"},\"error_y\":{\"color\":\"#2a3f5f\"},\"marker\":{\"line\":{\"color\":\"#E5ECF6\",\"width\":0.5},\"pattern\":{\"fillmode\":\"overlay\",\"size\":10,\"solidity\":0.2}},\"type\":\"bar\"}],\"scattergeo\":[{\"type\":\"scattergeo\",\"marker\":{\"colorbar\":{\"outlinewidth\":0,\"ticks\":\"\"}}}],\"scatterpolar\":[{\"type\":\"scatterpolar\",\"marker\":{\"colorbar\":{\"outlinewidth\":0,\"ticks\":\"\"}}}],\"histogram\":[{\"marker\":{\"pattern\":{\"fillmode\":\"overlay\",\"size\":10,\"solidity\":0.2}},\"type\":\"histogram\"}],\"scattergl\":[{\"type\":\"scattergl\",\"marker\":{\"colorbar\":{\"outlinewidth\":0,\"ticks\":\"\"}}}],\"scatter3d\":[{\"type\":\"scatter3d\",\"line\":{\"colorbar\":{\"outlinewidth\":0,\"ticks\":\"\"}},\"marker\":{\"colorbar\":{\"outlinewidth\":0,\"ticks\":\"\"}}}],\"scattermapbox\":[{\"type\":\"scattermapbox\",\"marker\":{\"colorbar\":{\"outlinewidth\":0,\"ticks\":\"\"}}}],\"scatterternary\":[{\"type\":\"scatterternary\",\"marker\":{\"colorbar\":{\"outlinewidth\":0,\"ticks\":\"\"}}}],\"scattercarpet\":[{\"type\":\"scattercarpet\",\"marker\":{\"colorbar\":{\"outlinewidth\":0,\"ticks\":\"\"}}}],\"carpet\":[{\"aaxis\":{\"endlinecolor\":\"#2a3f5f\",\"gridcolor\":\"white\",\"linecolor\":\"white\",\"minorgridcolor\":\"white\",\"startlinecolor\":\"#2a3f5f\"},\"baxis\":{\"endlinecolor\":\"#2a3f5f\",\"gridcolor\":\"white\",\"linecolor\":\"white\",\"minorgridcolor\":\"white\",\"startlinecolor\":\"#2a3f5f\"},\"type\":\"carpet\"}],\"table\":[{\"cells\":{\"fill\":{\"color\":\"#EBF0F8\"},\"line\":{\"color\":\"white\"}},\"header\":{\"fill\":{\"color\":\"#C8D4E3\"},\"line\":{\"color\":\"white\"}},\"type\":\"table\"}],\"barpolar\":[{\"marker\":{\"line\":{\"color\":\"#E5ECF6\",\"width\":0.5},\"pattern\":{\"fillmode\":\"overlay\",\"size\":10,\"solidity\":0.2}},\"type\":\"barpolar\"}],\"pie\":[{\"automargin\":true,\"type\":\"pie\"}]},\"layout\":{\"autotypenumbers\":\"strict\",\"colorway\":[\"#636efa\",\"#EF553B\",\"#00cc96\",\"#ab63fa\",\"#FFA15A\",\"#19d3f3\",\"#FF6692\",\"#B6E880\",\"#FF97FF\",\"#FECB52\"],\"font\":{\"color\":\"#2a3f5f\"},\"hovermode\":\"closest\",\"hoverlabel\":{\"align\":\"left\"},\"paper_bgcolor\":\"white\",\"plot_bgcolor\":\"#E5ECF6\",\"polar\":{\"bgcolor\":\"#E5ECF6\",\"angularaxis\":{\"gridcolor\":\"white\",\"linecolor\":\"white\",\"ticks\":\"\"},\"radialaxis\":{\"gridcolor\":\"white\",\"linecolor\":\"white\",\"ticks\":\"\"}},\"ternary\":{\"bgcolor\":\"#E5ECF6\",\"aaxis\":{\"gridcolor\":\"white\",\"linecolor\":\"white\",\"ticks\":\"\"},\"baxis\":{\"gridcolor\":\"white\",\"linecolor\":\"white\",\"ticks\":\"\"},\"caxis\":{\"gridcolor\":\"white\",\"linecolor\":\"white\",\"ticks\":\"\"}},\"coloraxis\":{\"colorbar\":{\"outlinewidth\":0,\"ticks\":\"\"}},\"colorscale\":{\"sequential\":[[0.0,\"#0d0887\"],[0.1111111111111111,\"#46039f\"],[0.2222222222222222,\"#7201a8\"],[0.3333333333333333,\"#9c179e\"],[0.4444444444444444,\"#bd3786\"],[0.5555555555555556,\"#d8576b\"],[0.6666666666666666,\"#ed7953\"],[0.7777777777777778,\"#fb9f3a\"],[0.8888888888888888,\"#fdca26\"],[1.0,\"#f0f921\"]],\"sequentialminus\":[[0.0,\"#0d0887\"],[0.1111111111111111,\"#46039f\"],[0.2222222222222222,\"#7201a8\"],[0.3333333333333333,\"#9c179e\"],[0.4444444444444444,\"#bd3786\"],[0.5555555555555556,\"#d8576b\"],[0.6666666666666666,\"#ed7953\"],[0.7777777777777778,\"#fb9f3a\"],[0.8888888888888888,\"#fdca26\"],[1.0,\"#f0f921\"]],\"diverging\":[[0,\"#8e0152\"],[0.1,\"#c51b7d\"],[0.2,\"#de77ae\"],[0.3,\"#f1b6da\"],[0.4,\"#fde0ef\"],[0.5,\"#f7f7f7\"],[0.6,\"#e6f5d0\"],[0.7,\"#b8e186\"],[0.8,\"#7fbc41\"],[0.9,\"#4d9221\"],[1,\"#276419\"]]},\"xaxis\":{\"gridcolor\":\"white\",\"linecolor\":\"white\",\"ticks\":\"\",\"title\":{\"standoff\":15},\"zerolinecolor\":\"white\",\"automargin\":true,\"zerolinewidth\":2},\"yaxis\":{\"gridcolor\":\"white\",\"linecolor\":\"white\",\"ticks\":\"\",\"title\":{\"standoff\":15},\"zerolinecolor\":\"white\",\"automargin\":true,\"zerolinewidth\":2},\"scene\":{\"xaxis\":{\"backgroundcolor\":\"#E5ECF6\",\"gridcolor\":\"white\",\"linecolor\":\"white\",\"showbackground\":true,\"ticks\":\"\",\"zerolinecolor\":\"white\",\"gridwidth\":2},\"yaxis\":{\"backgroundcolor\":\"#E5ECF6\",\"gridcolor\":\"white\",\"linecolor\":\"white\",\"showbackground\":true,\"ticks\":\"\",\"zerolinecolor\":\"white\",\"gridwidth\":2},\"zaxis\":{\"backgroundcolor\":\"#E5ECF6\",\"gridcolor\":\"white\",\"linecolor\":\"white\",\"showbackground\":true,\"ticks\":\"\",\"zerolinecolor\":\"white\",\"gridwidth\":2}},\"shapedefaults\":{\"line\":{\"color\":\"#2a3f5f\"}},\"annotationdefaults\":{\"arrowcolor\":\"#2a3f5f\",\"arrowhead\":0,\"arrowwidth\":1},\"geo\":{\"bgcolor\":\"white\",\"landcolor\":\"#E5ECF6\",\"subunitcolor\":\"white\",\"showland\":true,\"showlakes\":true,\"lakecolor\":\"white\"},\"title\":{\"x\":0.05},\"mapbox\":{\"style\":\"light\"}}},\"scene\":{\"domain\":{\"x\":[0.0,1.0],\"y\":[0.0,1.0]},\"xaxis\":{\"title\":{\"text\":\"Reds\"}},\"yaxis\":{\"title\":{\"text\":\"Greens\"}},\"zaxis\":{\"title\":{\"text\":\"Blues\"}}},\"legend\":{\"title\":{\"text\":\"color\"},\"tracegroupgap\":0},\"title\":{\"text\":\"Dominant colors clusters\"}},                        {\"responsive\": true}                    ).then(function(){\n",
              "                            \n",
              "var gd = document.getElementById('a20c50ef-bd9d-475b-a89e-9c3c49a5d961');\n",
              "var x = new MutationObserver(function (mutations, observer) {{\n",
              "        var display = window.getComputedStyle(gd).display;\n",
              "        if (!display || display === 'none') {{\n",
              "            console.log([gd, 'removed!']);\n",
              "            Plotly.purge(gd);\n",
              "            observer.disconnect();\n",
              "        }}\n",
              "}});\n",
              "\n",
              "// Listen for the removal of the full notebook cells\n",
              "var notebookContainer = gd.closest('#notebook-container');\n",
              "if (notebookContainer) {{\n",
              "    x.observe(notebookContainer, {childList: true});\n",
              "}}\n",
              "\n",
              "// Listen for the clearing of the current output cell\n",
              "var outputEl = gd.closest('.output');\n",
              "if (outputEl) {{\n",
              "    x.observe(outputEl, {childList: true});\n",
              "}}\n",
              "\n",
              "                        })                };                            </script>        </div>\n",
              "</body>\n",
              "</html>"
            ]
          },
          "metadata": {}
        }
      ]
    },
    {
      "cell_type": "markdown",
      "source": [
        "## Making a color palette from a single color"
      ],
      "metadata": {
        "id": "ivZJe1GUyeLc"
      }
    },
    {
      "cell_type": "markdown",
      "source": [
        "Convert color to HSV format for manipulation of hue, brightness and saturation."
      ],
      "metadata": {
        "id": "N60QUMZ_yW3I"
      }
    },
    {
      "cell_type": "code",
      "source": [
        "import colorsys\n",
        "# ColorSys uses values in fraction i.e. [0, 1]\n",
        "hls = []\n",
        "for color in colors:\n",
        "  h, l, s = colorsys.rgb_to_hls(color[0]/255, color[1]/255, color[2]/255)\n",
        "  # convert hls back to original values from 0, 1\n",
        "  h = round(h * 360) # h ranges from [0, 360]\n",
        "  l = round(l * 100) # l is a percent value [0, 100]\n",
        "  s = round(s * 100) # s is a percent value [0, 100]\n",
        "  # there will be some loss in converting float to int\n",
        "  hls.append([h, l, s])\n",
        "print(hls)"
      ],
      "metadata": {
        "colab": {
          "base_uri": "https://localhost:8080/"
        },
        "id": "-cIYzF-psFjJ",
        "outputId": "a315d2fd-410d-4775-faec-4960965c7f05"
      },
      "execution_count": null,
      "outputs": [
        {
          "output_type": "stream",
          "name": "stdout",
          "text": [
            "[[94, 25, 54], [131, 7, 30], [102, 20, 40], [91, 31, 64], [118, 14, 34], [169, 28, 32], [90, 41, 54]]\n"
          ]
        }
      ]
    },
    {
      "cell_type": "markdown",
      "source": [
        "### Step 1: Find complimentry color to the Primary Color\n",
        "If Hue (H) value < 180° add 180 to it. If it's > 180° then subtract 180 from it. This will give you the exact complement of a color. (Basically we are rotating color wheel by half turn.) \\\n",
        "Secondary color should not overpower primary color, so mute the complementary color by lowering it's brightness and saturation."
      ],
      "metadata": {
        "id": "eEI5bYTQ040K"
      }
    },
    {
      "cell_type": "code",
      "source": [
        "# let primary color be\n",
        "primary_color = hls[-1]\n",
        "secondary_color = [0, 0, 0]\n",
        "if primary_color[0] < 180:\n",
        "  secondary_color[0] = 180 + primary_color[0]\n",
        "else:\n",
        "  secondary_color[0] = primary_color[0] - 180\n",
        "\n",
        "# reducing brightness by 25%\n",
        "secondary_color[1] = round(primary_color[1] * 0.75)\n",
        "\n",
        "# reducing saturation by 30%\n",
        "secondary_color[2] = round(primary_color[2] * 0.3)\n",
        "print(secondary_color)"
      ],
      "metadata": {
        "colab": {
          "base_uri": "https://localhost:8080/"
        },
        "id": "FCpceNX8zkOX",
        "outputId": "e9f7499a-2983-4fa7-cfc6-2f5dc18e5a7e"
      },
      "execution_count": null,
      "outputs": [
        {
          "output_type": "stream",
          "name": "stdout",
          "text": [
            "[270, 31, 16]\n"
          ]
        }
      ]
    },
    {
      "cell_type": "markdown",
      "source": [
        "### Step 2: Make tints for each color\n",
        "Duplicate the shades for each color and then make the color brighter and less saturated."
      ],
      "metadata": {
        "id": "c0hZgsDg-Y8y"
      }
    },
    {
      "cell_type": "code",
      "source": [
        "primary_tint = primary_color.copy()\n",
        "secondary_tint = secondary_color.copy()\n",
        "\n",
        "# brightening by 75%\n",
        "primary_tint[1] = round(primary_tint[1] * 1.75)\n",
        "secondary_tint[1] = round(secondary_tint[1] * 1.75)\n",
        "\n",
        "# desaturating by 75%\n",
        "primary_tint[2] = round(primary_tint[2] * 0.25)\n",
        "secondary_tint[2] = round(secondary_tint[2] * 0.25)\n",
        "\n",
        "print(primary_tint, secondary_tint)"
      ],
      "metadata": {
        "colab": {
          "base_uri": "https://localhost:8080/"
        },
        "id": "E6NE8ri8-qAB",
        "outputId": "5acb45bb-ca4a-4d0f-9d61-2d4b747c01a2"
      },
      "execution_count": null,
      "outputs": [
        {
          "output_type": "stream",
          "name": "stdout",
          "text": [
            "[90, 72, 14] [270, 54, 4]\n"
          ]
        }
      ]
    },
    {
      "cell_type": "markdown",
      "source": [
        "### Step 3: Make shadows of primary and secondary colors\n",
        "Reduce the brightness by about 50% of primary and secondary shades. \\\n",
        "Shift the hues of shadows towards bluw and make them slightly more saturated. \\\n",
        "Blue = (R: 0, G: 0, B: 255) = (H: 240, L: 50%, S: 100%)"
      ],
      "metadata": {
        "id": "6Y_TmGKP-qV0"
      }
    },
    {
      "cell_type": "code",
      "source": [
        "primary_shadow = primary_color.copy()\n",
        "secondary_shadow = secondary_color.copy()\n",
        "\n",
        "# reducing brightness by 50%\n",
        "primary_shadow[1] = round(primary_shadow[1] * 0.5)\n",
        "secondary_shadow[1] = round(secondary_shadow[1] * 0.5)\n",
        "\n",
        "# shifting hue towards blue by 20 points\n",
        "if primary_shadow[0] > 240:\n",
        "  primary_shadow[0] -= 20\n",
        "else:\n",
        "  primary_shadow[0] += 20\n",
        "if secondary_shadow[0] > 240:\n",
        "  secondary_shadow[0] -= 20\n",
        "else:\n",
        "  secondary_shadow[0] += 20\n",
        "\n",
        "# increasing saturation by 20%\n",
        "primary_shadow[2] = round(primary_shadow[2] * 1.2)\n",
        "secondary_shadow[2] = round(secondary_shadow[2] * 1.2)\n",
        "\n",
        "print(primary_shadow, secondary_shadow)"
      ],
      "metadata": {
        "colab": {
          "base_uri": "https://localhost:8080/"
        },
        "id": "6vRq6bfg_UlD",
        "outputId": "2fc9235d-fab1-4f7b-d307-04528a7e3939"
      },
      "execution_count": null,
      "outputs": [
        {
          "output_type": "stream",
          "name": "stdout",
          "text": [
            "[110, 20, 65] [250, 16, 19]\n"
          ]
        }
      ]
    },
    {
      "cell_type": "code",
      "source": [
        "ColorScheme = [primary_color, secondary_color, primary_tint, secondary_tint, primary_shadow, secondary_shadow]\n",
        "for idx, swatch in enumerate(ColorScheme):\n",
        "  r, g, b = colorsys.hls_to_rgb(swatch[0]/360, swatch[1]/100, swatch[2]/100)\n",
        "  ColorScheme[idx] = dc.rgb_to_hex([int(r*255), int(g*255), int(b*255)])\n",
        "\n",
        "print(ColorScheme)"
      ],
      "metadata": {
        "colab": {
          "base_uri": "https://localhost:8080/"
        },
        "id": "Dv0Hjau0S1i8",
        "outputId": "1aee920c-7896-41a1-fda1-415996d0234b"
      },
      "execution_count": null,
      "outputs": [
        {
          "output_type": "stream",
          "name": "stdout",
          "text": [
            "['#68a130', '#4f425b', '#b7c1ad', '#89858e', '#1c5411', '#232130']\n"
          ]
        }
      ]
    },
    {
      "cell_type": "markdown",
      "source": [
        "### References\n",
        "\n",
        "Procedure:\n",
        "- https://medium.com/@ys3372/deconstructing-an-image-with-pixels-4c65c3a2268c\n",
        "- https://theschedio.com/make-your-color-palette/\n",
        "\n",
        "Color theory:\n",
        "- https://donatbalipapp.medium.com/colours-maths-90346fb5abda\n",
        "- https://www.youtube.com/watch?v=j17KACvRS1o\n",
        "- https://manifold.net/doc/mfd8/colors_as_hue_saturation_and_brightness.htm\n",
        "- https://changingminds.org/explanations/perception/visual/hsl.htm"
      ],
      "metadata": {
        "id": "e8T8_pVXyxfr"
      }
    }
  ]
}