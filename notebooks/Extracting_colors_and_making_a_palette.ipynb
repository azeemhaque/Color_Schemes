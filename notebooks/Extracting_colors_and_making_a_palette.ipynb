{
  "cells": [
    {
      "cell_type": "markdown",
      "metadata": {
        "id": "OPtjBUZNylNU"
      },
      "source": [
        "## Extracting colors from an image"
      ]
    },
    {
      "cell_type": "code",
      "execution_count": null,
      "metadata": {
        "colab": {
          "base_uri": "https://localhost:8080/",
          "height": 73
        },
        "id": "dJrQkPX1Mhbj",
        "outputId": "b6b4cfe9-2366-4fe2-efca-a019d559a10d"
      },
      "outputs": [],
      "source": [
        "from google.colab import files\n",
        "uploaded_files = files.upload()"
      ]
    },
    {
      "cell_type": "code",
      "execution_count": null,
      "metadata": {
        "colab": {
          "base_uri": "https://localhost:8080/",
          "height": 597
        },
        "id": "agzLoraiI3v4",
        "outputId": "ac61ae07-5b86-4338-d941-b9002974f0e8"
      },
      "outputs": [],
      "source": [
        "import plotly.express as px\n",
        "import math\n",
        "import cv2\n",
        "\n",
        "SRC_IMAGE = 'sample-3.jpg' # Image path\n",
        "MAX_DIM = 100 # Set maximum width/height of the image\n",
        "\n",
        "img = cv2.imread(SRC_IMAGE)\n",
        "print('Original Dimensions (Height,Width,Colors):', img.shape)\n",
        "\n",
        "# image dimensions order: Height, Width, Depth\n",
        "width = 0\n",
        "height = 0\n",
        "if img.shape[1] > MAX_DIM or img.shape[0] > MAX_DIM:\n",
        "  if img.shape[1] > img.shape[0]:\n",
        "    # Width > Height\n",
        "    width = MAX_DIM\n",
        "    height = math.floor(width / img.shape[1] * img.shape[0])\n",
        "  else:\n",
        "    # Height >= Width\n",
        "    height = MAX_DIM\n",
        "    width = math.floor(height / img.shape[0] * img.shape[1])\n",
        "\n",
        "  dim = (width, height)\n",
        "\n",
        "  # downscale/compress image\n",
        "  img = cv2.resize(img, dim, interpolation = cv2.INTER_AREA)\n",
        "  print('Resized Dimensions (Height,Width,Colors):', img.shape)\n",
        "\n",
        "img = cv2.cvtColor(img, cv2.COLOR_BGR2RGB)\n",
        "\n",
        "fig = px.imshow(img)\n",
        "fig.show()"
      ]
    },
    {
      "cell_type": "code",
      "execution_count": null,
      "metadata": {
        "id": "m0bAa3sYJZw6"
      },
      "outputs": [],
      "source": [
        "from sklearn.cluster import KMeans\n",
        "\n",
        "class DominantColors:\n",
        "\n",
        "  CLUSTERS = None\n",
        "  MAX_DIM = None\n",
        "  IMAGE = None\n",
        "  COLORS = None\n",
        "  LABELS = None\n",
        "\n",
        "  def __init__(self, image, clusters=7, max_dim=500):\n",
        "    self.CLUSTERS = clusters\n",
        "    self.IMAGE = image\n",
        "    self.MAX_DIM = max_dim\n",
        "\n",
        "  def dominantColors(self):\n",
        "    img = cv2.imread(self.IMAGE)\n",
        "\n",
        "    # Downscale/resize image\n",
        "    # image dimensions order: Height, Width, Depth\n",
        "    if img.shape[1] > MAX_DIM or img.shape[0] > MAX_DIM:\n",
        "      if img.shape[1] > img.shape[0]:\n",
        "        # Width > Height\n",
        "        width = MAX_DIM\n",
        "        height = math.floor(width / img.shape[1] * img.shape[0])\n",
        "      else:\n",
        "        # Height >= Width\n",
        "        height = MAX_DIM\n",
        "        width = math.floor(height / img.shape[0] * img.shape[1])\n",
        "\n",
        "      dim = (width, height)\n",
        "      img = cv2.resize(img, dim, interpolation = cv2.INTER_AREA)\n",
        "\n",
        "    img = cv2.cvtColor(img, cv2.COLOR_BGR2RGB)\n",
        "\n",
        "    # reshaping to a list of pixel [r,g,b] values\n",
        "    img = img.reshape((img.shape[1] * img.shape[0], 3)) # Width * Height, 3\n",
        "    self.IMAGE = img\n",
        "\n",
        "    # using k-means to cluster pixels\n",
        "    kmeans = KMeans(n_clusters = self.CLUSTERS, n_init='auto')\n",
        "    kmeans.fit(img)\n",
        "\n",
        "    # cluster centers are dominant colors\n",
        "    self.COLORS = kmeans.cluster_centers_.astype(int)\n",
        "\n",
        "    # save cluster labels for each pixel\n",
        "    self.LABELS = kmeans.labels_\n",
        "\n",
        "    return self.COLORS\n",
        "\n",
        "  def rgb_to_hex(self, rgb):\n",
        "    return '#{:02x}{:02x}{:02x}'.format(rgb[0], rgb[1], rgb[2])\n",
        "\n",
        "  def plotClusters(self):\n",
        "    X, Y, Z = zip(*self.IMAGE) # convert pixels into [Reds, Greens, Blues] array\n",
        "\n",
        "    Colors = []\n",
        "    for label in self.LABELS:\n",
        "      Colors.append(self.rgb_to_hex(self.COLORS[label]))\n",
        "\n",
        "    fig = px.scatter_3d(x=X, y=Y, z=Z, color=Colors,\n",
        "                        color_discrete_map=dict(zip(Colors, Colors)),\n",
        "                        labels={\n",
        "                            'x': 'Reds',\n",
        "                            'y': 'Greens',\n",
        "                            'z': 'Blues',\n",
        "                        },\n",
        "                        title='Dominant colors clusters')\n",
        "    fig.show()"
      ]
    },
    {
      "cell_type": "code",
      "execution_count": null,
      "metadata": {
        "colab": {
          "base_uri": "https://localhost:8080/",
          "height": 701
        },
        "id": "0f8vunlWLwDV",
        "outputId": "d089697f-380d-4f3b-85db-9c61819b5a5a"
      },
      "outputs": [],
      "source": [
        "dc = DominantColors(SRC_IMAGE)\n",
        "colors = dc.dominantColors()\n",
        "hex_colors = []\n",
        "for c in colors:\n",
        "  hex_colors.append(dc.rgb_to_hex(c))\n",
        "print(colors)\n",
        "print(hex_colors)\n",
        "dc.plotClusters()"
      ]
    },
    {
      "cell_type": "markdown",
      "metadata": {
        "id": "ivZJe1GUyeLc"
      },
      "source": [
        "## Making a color palette from a single color"
      ]
    },
    {
      "cell_type": "markdown",
      "metadata": {
        "id": "N60QUMZ_yW3I"
      },
      "source": [
        "Convert color to HSV format for manipulation of hue, brightness and saturation."
      ]
    },
    {
      "cell_type": "code",
      "execution_count": null,
      "metadata": {
        "colab": {
          "base_uri": "https://localhost:8080/"
        },
        "id": "-cIYzF-psFjJ",
        "outputId": "a315d2fd-410d-4775-faec-4960965c7f05"
      },
      "outputs": [],
      "source": [
        "import colorsys\n",
        "# ColorSys uses values in fraction i.e. [0, 1]\n",
        "hls = []\n",
        "for color in colors:\n",
        "  h, l, s = colorsys.rgb_to_hls(color[0]/255, color[1]/255, color[2]/255)\n",
        "  # convert hls back to original values from 0, 1\n",
        "  h = round(h * 360) # h ranges from [0, 360]\n",
        "  l = round(l * 100) # l is a percent value [0, 100]\n",
        "  s = round(s * 100) # s is a percent value [0, 100]\n",
        "  # there will be some loss in converting float to int\n",
        "  hls.append([h, l, s])\n",
        "print(hls)"
      ]
    },
    {
      "cell_type": "markdown",
      "metadata": {
        "id": "eEI5bYTQ040K"
      },
      "source": [
        "### Step 1: Find complimentry color to the Primary Color\n",
        "If Hue (H) value < 180° add 180 to it. If it's > 180° then subtract 180 from it. This will give you the exact complement of a color. (Basically we are rotating color wheel by half turn.) \\\n",
        "Secondary color should not overpower primary color, so mute the complementary color by lowering it's brightness and saturation."
      ]
    },
    {
      "cell_type": "code",
      "execution_count": null,
      "metadata": {
        "colab": {
          "base_uri": "https://localhost:8080/"
        },
        "id": "FCpceNX8zkOX",
        "outputId": "e9f7499a-2983-4fa7-cfc6-2f5dc18e5a7e"
      },
      "outputs": [],
      "source": [
        "# let primary color be\n",
        "primary_color = hls[-1]\n",
        "secondary_color = [0, 0, 0]\n",
        "if primary_color[0] < 180:\n",
        "  secondary_color[0] = 180 + primary_color[0]\n",
        "else:\n",
        "  secondary_color[0] = primary_color[0] - 180\n",
        "\n",
        "# reducing brightness by 25%\n",
        "secondary_color[1] = round(primary_color[1] * 0.75)\n",
        "\n",
        "# reducing saturation by 30%\n",
        "secondary_color[2] = round(primary_color[2] * 0.3)\n",
        "print(secondary_color)"
      ]
    },
    {
      "cell_type": "markdown",
      "metadata": {
        "id": "c0hZgsDg-Y8y"
      },
      "source": [
        "### Step 2: Make tints for each color\n",
        "Duplicate the shades for each color and then make the color brighter and less saturated."
      ]
    },
    {
      "cell_type": "code",
      "execution_count": null,
      "metadata": {
        "colab": {
          "base_uri": "https://localhost:8080/"
        },
        "id": "E6NE8ri8-qAB",
        "outputId": "5acb45bb-ca4a-4d0f-9d61-2d4b747c01a2"
      },
      "outputs": [],
      "source": [
        "primary_tint = primary_color.copy()\n",
        "secondary_tint = secondary_color.copy()\n",
        "\n",
        "# brightening by 75%\n",
        "primary_tint[1] = round(primary_tint[1] * 1.75)\n",
        "secondary_tint[1] = round(secondary_tint[1] * 1.75)\n",
        "\n",
        "# desaturating by 75%\n",
        "primary_tint[2] = round(primary_tint[2] * 0.25)\n",
        "secondary_tint[2] = round(secondary_tint[2] * 0.25)\n",
        "\n",
        "print(primary_tint, secondary_tint)"
      ]
    },
    {
      "cell_type": "markdown",
      "metadata": {
        "id": "6Y_TmGKP-qV0"
      },
      "source": [
        "### Step 3: Make shadows of primary and secondary colors\n",
        "Reduce the brightness by about 50% of primary and secondary shades. \\\n",
        "Shift the hues of shadows towards bluw and make them slightly more saturated. \\\n",
        "Blue = (R: 0, G: 0, B: 255) = (H: 240, L: 50%, S: 100%)"
      ]
    },
    {
      "cell_type": "code",
      "execution_count": null,
      "metadata": {
        "colab": {
          "base_uri": "https://localhost:8080/"
        },
        "id": "6vRq6bfg_UlD",
        "outputId": "2fc9235d-fab1-4f7b-d307-04528a7e3939"
      },
      "outputs": [],
      "source": [
        "primary_shadow = primary_color.copy()\n",
        "secondary_shadow = secondary_color.copy()\n",
        "\n",
        "# reducing brightness by 50%\n",
        "primary_shadow[1] = round(primary_shadow[1] * 0.5)\n",
        "secondary_shadow[1] = round(secondary_shadow[1] * 0.5)\n",
        "\n",
        "# shifting hue towards blue by 20 points\n",
        "if primary_shadow[0] > 240:\n",
        "  primary_shadow[0] -= 20\n",
        "else:\n",
        "  primary_shadow[0] += 20\n",
        "if secondary_shadow[0] > 240:\n",
        "  secondary_shadow[0] -= 20\n",
        "else:\n",
        "  secondary_shadow[0] += 20\n",
        "\n",
        "# increasing saturation by 20%\n",
        "primary_shadow[2] = round(primary_shadow[2] * 1.2)\n",
        "secondary_shadow[2] = round(secondary_shadow[2] * 1.2)\n",
        "\n",
        "print(primary_shadow, secondary_shadow)"
      ]
    },
    {
      "cell_type": "code",
      "execution_count": null,
      "metadata": {
        "colab": {
          "base_uri": "https://localhost:8080/"
        },
        "id": "Dv0Hjau0S1i8",
        "outputId": "1aee920c-7896-41a1-fda1-415996d0234b"
      },
      "outputs": [],
      "source": [
        "ColorScheme = [primary_color, secondary_color, primary_tint, secondary_tint, primary_shadow, secondary_shadow]\n",
        "for idx, swatch in enumerate(ColorScheme):\n",
        "  r, g, b = colorsys.hls_to_rgb(swatch[0]/360, swatch[1]/100, swatch[2]/100)\n",
        "  ColorScheme[idx] = dc.rgb_to_hex([int(r*255), int(g*255), int(b*255)])\n",
        "\n",
        "print(ColorScheme)"
      ]
    },
    {
      "cell_type": "markdown",
      "metadata": {
        "id": "e8T8_pVXyxfr"
      },
      "source": [
        "### References\n",
        "\n",
        "Procedure:\n",
        "- https://medium.com/@ys3372/deconstructing-an-image-with-pixels-4c65c3a2268c\n",
        "- https://theschedio.com/make-your-color-palette/\n",
        "\n",
        "Color theory:\n",
        "- https://donatbalipapp.medium.com/colours-maths-90346fb5abda\n",
        "- https://www.youtube.com/watch?v=j17KACvRS1o\n",
        "- https://manifold.net/doc/mfd8/colors_as_hue_saturation_and_brightness.htm\n",
        "- https://changingminds.org/explanations/perception/visual/hsl.htm"
      ]
    }
  ],
  "metadata": {
    "colab": {
      "provenance": []
    },
    "kernelspec": {
      "display_name": "Python 3",
      "name": "python3"
    },
    "language_info": {
      "name": "python"
    }
  },
  "nbformat": 4,
  "nbformat_minor": 0
}
